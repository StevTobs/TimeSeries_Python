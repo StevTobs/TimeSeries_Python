{
  "nbformat": 4,
  "nbformat_minor": 0,
  "metadata": {
    "kernelspec": {
      "display_name": "Python 3",
      "language": "python",
      "name": "python3"
    },
    "language_info": {
      "codemirror_mode": {
        "name": "ipython",
        "version": 3
      },
      "file_extension": ".py",
      "mimetype": "text/x-python",
      "name": "python",
      "nbconvert_exporter": "python",
      "pygments_lexer": "ipython3",
      "version": "3.7.2"
    },
    "colab": {
      "name": "Time_Series_with_Pandas.ipynb",
      "provenance": [],
      "include_colab_link": true
    }
  },
  "cells": [
    {
      "cell_type": "markdown",
      "metadata": {
        "id": "view-in-github",
        "colab_type": "text"
      },
      "source": [
        "<a href=\"https://colab.research.google.com/github/StevTobs/TimeSeries_Python/blob/master/Time_Series_with_Pandas.ipynb\" target=\"_parent\"><img src=\"https://colab.research.google.com/assets/colab-badge.svg\" alt=\"Open In Colab\"/></a>"
      ]
    },
    {
      "cell_type": "markdown",
      "metadata": {
        "id": "jb-vBFxn5eHR"
      },
      "source": [
        "# Initial Code"
      ]
    },
    {
      "cell_type": "code",
      "metadata": {
        "id": "tZ0KNVErewyS"
      },
      "source": [
        "#--------installation in Colab -----------\n",
        "!pip install -U -q PyDrive #for load data from google drive with PyDrive"
      ],
      "execution_count": 1,
      "outputs": []
    },
    {
      "cell_type": "code",
      "metadata": {
        "id": "S1eL_H6rIsJk"
      },
      "source": [
        "\r\n",
        "#Authenticate and create the PyDrive client. \r\n",
        "def Initial_googleDrive( PATH_googleDrive, PATH_googleDrive_id ):\r\n",
        "\r\n",
        "  from pydrive.auth import GoogleAuth \r\n",
        "  from pydrive.drive import GoogleDrive \r\n",
        "  from google.colab import auth \r\n",
        "  from oauth2client.client import GoogleCredentials \r\n",
        "  from google.colab import files\r\n",
        "  #Authenticate and create the PyDrive client. \r\n",
        "  auth.authenticate_user() \r\n",
        "  gauth = GoogleAuth() \r\n",
        "  gauth.credentials = GoogleCredentials.get_application_default() \r\n",
        "  drive = GoogleDrive(gauth) \r\n",
        "  your_module = drive.CreateFile({'id':PATH_googleDrive_id}) \r\n",
        "  your_module.GetContentFile( PATH_googleDrive )\r\n",
        "  #------------------------ "
      ],
      "execution_count": 2,
      "outputs": []
    },
    {
      "cell_type": "code",
      "metadata": {
        "id": "BNOfMOxc9FlL"
      },
      "source": [
        "import pandas as pd\r\n",
        "#some version do not support plotting in line of Matplotlib\r\n",
        "%matplotlib inline "
      ],
      "execution_count": 3,
      "outputs": []
    },
    {
      "cell_type": "markdown",
      "metadata": {
        "id": "-GAWNi6hZaiK"
      },
      "source": [
        "# Time series with Pandas\n",
        "Table of Contents\n",
        "   * [DataTime Index Basic](#DataTimeIndexBasic)\n",
        "   * [Time Resapling](#TimeResapling)\n",
        "   * [Time Shifting](#TimeShifting)\n",
        "   * [Rolling and Expanding](#RollingandExpanding)\n",
        "   * [Time Series Visualization](#TimeSeriesVisualization)\n",
        "   * [Time Series Project Exercise](#TimeSeriesProjectExercise)\n",
        "    \n",
        "    \n"
      ]
    },
    {
      "cell_type": "markdown",
      "metadata": {
        "id": "mkUZOAPUZaiX"
      },
      "source": [
        "## DataTime Index Basic <a class=\"anchor\" id=\"DataTimeIndexBasic\"></a>"
      ]
    },
    {
      "cell_type": "code",
      "metadata": {
        "id": "lgKuHwaFZaiY"
      },
      "source": [
        "# None Pandas"
      ],
      "execution_count": null,
      "outputs": []
    },
    {
      "cell_type": "code",
      "metadata": {
        "id": "s4dhItWLZaiY"
      },
      "source": [
        "from datetime import datetime"
      ],
      "execution_count": null,
      "outputs": []
    },
    {
      "cell_type": "code",
      "metadata": {
        "id": "s4GRnBEuZaiZ"
      },
      "source": [
        "my_year = 2020\n",
        "my_month = 1\n",
        "my_day = 2\n",
        "my_hour = 13\n",
        "my_min = 30\n",
        "my_sec = 15"
      ],
      "execution_count": null,
      "outputs": []
    },
    {
      "cell_type": "markdown",
      "metadata": {
        "id": "_j9-8416a-lS"
      },
      "source": [
        "Create **datetime object**"
      ]
    },
    {
      "cell_type": "code",
      "metadata": {
        "id": "MxOtdH8_Zaia"
      },
      "source": [
        "#shift tab\n",
        "my_date = datetime(my_year, my_month, my_day)"
      ],
      "execution_count": null,
      "outputs": []
    },
    {
      "cell_type": "code",
      "metadata": {
        "colab": {
          "base_uri": "https://localhost:8080/"
        },
        "id": "vRlLSVkUZaib",
        "outputId": "7bb2174b-9398-4461-dea1-a990ea6c3e46"
      },
      "source": [
        "my_date"
      ],
      "execution_count": null,
      "outputs": [
        {
          "output_type": "execute_result",
          "data": {
            "text/plain": [
              "datetime.datetime(2020, 1, 2, 0, 0)"
            ]
          },
          "metadata": {
            "tags": []
          },
          "execution_count": 65
        }
      ]
    },
    {
      "cell_type": "code",
      "metadata": {
        "id": "jhxqt1CjZaid"
      },
      "source": [
        "my_date_time = datetime(my_year, my_month, my_day, my_hour, my_min, my_sec)"
      ],
      "execution_count": null,
      "outputs": []
    },
    {
      "cell_type": "code",
      "metadata": {
        "colab": {
          "base_uri": "https://localhost:8080/"
        },
        "id": "yDN0uF-HZaie",
        "outputId": "ad4c087a-c6c6-4e9a-b3f3-16a6ab5e7aa1"
      },
      "source": [
        "#tab\n",
        "my_date_time"
      ],
      "execution_count": null,
      "outputs": [
        {
          "output_type": "execute_result",
          "data": {
            "text/plain": [
              "datetime.datetime(2020, 1, 2, 13, 30, 15)"
            ]
          },
          "metadata": {
            "tags": []
          },
          "execution_count": 67
        }
      ]
    },
    {
      "cell_type": "code",
      "metadata": {
        "colab": {
          "base_uri": "https://localhost:8080/"
        },
        "id": "g4x3XbTvZaie",
        "outputId": "8bf11604-560a-4540-9569-499b714e75ca"
      },
      "source": [
        "my_date_time.day"
      ],
      "execution_count": null,
      "outputs": [
        {
          "output_type": "execute_result",
          "data": {
            "text/plain": [
              "2"
            ]
          },
          "metadata": {
            "tags": []
          },
          "execution_count": 68
        }
      ]
    },
    {
      "cell_type": "code",
      "metadata": {
        "colab": {
          "base_uri": "https://localhost:8080/"
        },
        "id": "6XZ17iEvZaii",
        "outputId": "34d6e7f1-445d-4969-c691-d0e8583d4f66"
      },
      "source": [
        "my_date_time.hour"
      ],
      "execution_count": null,
      "outputs": [
        {
          "output_type": "execute_result",
          "data": {
            "text/plain": [
              "13"
            ]
          },
          "metadata": {
            "tags": []
          },
          "execution_count": 69
        }
      ]
    },
    {
      "cell_type": "code",
      "metadata": {
        "colab": {
          "base_uri": "https://localhost:8080/"
        },
        "id": "NaBmYYruZaij",
        "outputId": "3d80e289-eafe-479f-8cf3-a5cf8050acb5"
      },
      "source": [
        "type(my_date_time)"
      ],
      "execution_count": null,
      "outputs": [
        {
          "output_type": "execute_result",
          "data": {
            "text/plain": [
              "datetime.datetime"
            ]
          },
          "metadata": {
            "tags": []
          },
          "execution_count": 70
        }
      ]
    },
    {
      "cell_type": "markdown",
      "metadata": {
        "id": "-Ui2Rav4YQV1"
      },
      "source": [
        "#### NumPy Date Ranges\r\n",
        "Just as <tt>np.arange(start,stop,step)</tt> can be used to produce an array of evenly-spaced integers, we can pass a <tt>dtype</tt> argument to obtain an array of dates. Remember that the stop date is <em>exclusive</em>."
      ]
    },
    {
      "cell_type": "code",
      "metadata": {
        "id": "1fZlDasDZaik"
      },
      "source": [
        "import numpy as np"
      ],
      "execution_count": null,
      "outputs": []
    },
    {
      "cell_type": "code",
      "metadata": {
        "colab": {
          "base_uri": "https://localhost:8080/"
        },
        "id": "OUZ1ZmRlZaik",
        "outputId": "1e6a551e-e8da-4013-a4a7-788387d28edc"
      },
      "source": [
        "# Just string\n",
        "np.array(['200-03-15','2020-03-16','2020-03-17'])"
      ],
      "execution_count": null,
      "outputs": [
        {
          "output_type": "execute_result",
          "data": {
            "text/plain": [
              "array(['200-03-15', '2020-03-16', '2020-03-17'], dtype='<U10')"
            ]
          },
          "metadata": {
            "tags": []
          },
          "execution_count": 72
        }
      ]
    },
    {
      "cell_type": "code",
      "metadata": {
        "colab": {
          "base_uri": "https://localhost:8080/"
        },
        "id": "Mla_9teBZail",
        "outputId": "6f22a6f2-1500-4eff-afe2-219a7c390da6"
      },
      "source": [
        "# Datetime object specification\n",
        "np.array(['2020-03-15','2020-03-16','2020-03-17'],dtype='datetime64') #means 64bit\n",
        "#D is day"
      ],
      "execution_count": null,
      "outputs": [
        {
          "output_type": "execute_result",
          "data": {
            "text/plain": [
              "array(['2020-03-15', '2020-03-16', '2020-03-17'], dtype='datetime64[D]')"
            ]
          },
          "metadata": {
            "tags": []
          },
          "execution_count": 73
        }
      ]
    },
    {
      "cell_type": "code",
      "metadata": {
        "colab": {
          "base_uri": "https://localhost:8080/"
        },
        "id": "8xI_pizaZaim",
        "outputId": "4919f63f-9294-4467-e217-01bac11f7587"
      },
      "source": [
        "np.array(['200-03-15','2020-03-16','2020-03-17'],dtype='datetime64[Y]') #Y is day"
      ],
      "execution_count": null,
      "outputs": [
        {
          "output_type": "execute_result",
          "data": {
            "text/plain": [
              "array(['0200', '2020', '2020'], dtype='datetime64[Y]')"
            ]
          },
          "metadata": {
            "tags": []
          },
          "execution_count": 74
        }
      ]
    },
    {
      "cell_type": "code",
      "metadata": {
        "colab": {
          "base_uri": "https://localhost:8080/"
        },
        "id": "xQBxqjcEZaim",
        "outputId": "0f16e047-21f5-47d3-83fa-2de10b08c1ea"
      },
      "source": [
        "np.array(['200-03-15','2020-03-16','2020-03-17'],dtype='datetime64[h]') #h is hour"
      ],
      "execution_count": null,
      "outputs": [
        {
          "output_type": "execute_result",
          "data": {
            "text/plain": [
              "array(['0200-03-15T00', '2020-03-16T00', '2020-03-17T00'],\n",
              "      dtype='datetime64[h]')"
            ]
          },
          "metadata": {
            "tags": []
          },
          "execution_count": 75
        }
      ]
    },
    {
      "cell_type": "code",
      "metadata": {
        "colab": {
          "base_uri": "https://localhost:8080/"
        },
        "id": "vDCaKi4MZain",
        "outputId": "18abe233-e88d-4ed8-d874-cf5c462df9f8"
      },
      "source": [
        "np.arange(0,10,2)"
      ],
      "execution_count": null,
      "outputs": [
        {
          "output_type": "execute_result",
          "data": {
            "text/plain": [
              "array([0, 2, 4, 6, 8])"
            ]
          },
          "metadata": {
            "tags": []
          },
          "execution_count": 76
        }
      ]
    },
    {
      "cell_type": "code",
      "metadata": {
        "id": "i71ifhMHZain",
        "colab": {
          "base_uri": "https://localhost:8080/"
        },
        "outputId": "4547a691-21aa-4cfe-a75d-629b2a84938a"
      },
      "source": [
        "#apply day step \n",
        "np.arange('2018-06-01','2018-06-23',7, dtype='datetime64[D]')"
      ],
      "execution_count": null,
      "outputs": [
        {
          "output_type": "execute_result",
          "data": {
            "text/plain": [
              "array(['2018-06-01', '2018-06-08', '2018-06-15', '2018-06-22'],\n",
              "      dtype='datetime64[D]')"
            ]
          },
          "metadata": {
            "tags": []
          },
          "execution_count": 77
        }
      ]
    },
    {
      "cell_type": "code",
      "metadata": {
        "id": "qnAbrZOfZaio",
        "colab": {
          "base_uri": "https://localhost:8080/"
        },
        "outputId": "bdcf4b15-f2be-49aa-e9c6-dfa9b4c358c0"
      },
      "source": [
        "#Every data (becareful every hours)\n",
        "np.arange('1968','1976',dtype='datetime64[Y]')"
      ],
      "execution_count": null,
      "outputs": [
        {
          "output_type": "execute_result",
          "data": {
            "text/plain": [
              "array(['1968', '1969', '1970', '1971', '1972', '1973', '1974', '1975'],\n",
              "      dtype='datetime64[Y]')"
            ]
          },
          "metadata": {
            "tags": []
          },
          "execution_count": 78
        }
      ]
    },
    {
      "cell_type": "markdown",
      "metadata": {
        "id": "VzdfG3GnYAVf"
      },
      "source": [
        "#### Pandas Datetime Index\r\n",
        "\r\n",
        "We'll usually deal with time series as a datetime index when working with pandas dataframes. Fortunately pandas has a lot of functions and methods to work with time series!<br>\r\n",
        "For more on the pandas DatetimeIndex visit https://pandas.pydata.org/pandas-docs/stable/timeseries.html"
      ]
    },
    {
      "cell_type": "code",
      "metadata": {
        "id": "bpiKkyhbZaip"
      },
      "source": [
        "import pandas as pd"
      ],
      "execution_count": null,
      "outputs": []
    },
    {
      "cell_type": "markdown",
      "metadata": {
        "id": "6-QN_JpIYmga"
      },
      "source": [
        "The simplest way to build a DatetimeIndex is with the <tt><strong>pd.date_range()</strong></tt> method:"
      ]
    },
    {
      "cell_type": "code",
      "metadata": {
        "id": "wM76O1iLZaip",
        "colab": {
          "base_uri": "https://localhost:8080/"
        },
        "outputId": "e2f6c8da-22fd-4838-af13-f2103fb36772"
      },
      "source": [
        "pd.date_range('2020-01-01',periods=7,freq='D') # ความละเอียดระดับ nano second."
      ],
      "execution_count": null,
      "outputs": [
        {
          "output_type": "execute_result",
          "data": {
            "text/plain": [
              "DatetimeIndex(['2020-01-01', '2020-01-02', '2020-01-03', '2020-01-04',\n",
              "               '2020-01-05', '2020-01-06', '2020-01-07'],\n",
              "              dtype='datetime64[ns]', freq='D')"
            ]
          },
          "metadata": {
            "tags": []
          },
          "execution_count": 81
        }
      ]
    },
    {
      "cell_type": "code",
      "metadata": {
        "id": "YGdUhpHTZaiq",
        "colab": {
          "base_uri": "https://localhost:8080/"
        },
        "outputId": "1ec95df1-068d-45b4-94bb-25b6cfb1a5a1"
      },
      "source": [
        "pd.date_range('Jan 01, 2018',periods=7,freq='D')"
      ],
      "execution_count": null,
      "outputs": [
        {
          "output_type": "execute_result",
          "data": {
            "text/plain": [
              "DatetimeIndex(['2018-01-01', '2018-01-02', '2018-01-03', '2018-01-04',\n",
              "               '2018-01-05', '2018-01-06', '2018-01-07'],\n",
              "              dtype='datetime64[ns]', freq='D')"
            ]
          },
          "metadata": {
            "tags": []
          },
          "execution_count": 82
        }
      ]
    },
    {
      "cell_type": "markdown",
      "metadata": {
        "id": "xZq_63ZjYphy"
      },
      "source": [
        "<div class=\"alert alert-info\"><strong>DatetimeIndex Frequencies:</strong> When we used <tt>pd.date_range()</tt> above, we had to pass in a frequency parameter <tt>'D'</tt>. This created a series of 7 dates spaced one day apart. We'll cover this topic in depth in upcoming lectures, but for now, a list of time series offset aliases like <tt>'D'</tt> can be found <a href='http://pandas.pydata.org/pandas-docs/stable/user_guide/timeseries.html#offset-aliases'>here</a>.</div>"
      ]
    },
    {
      "cell_type": "markdown",
      "metadata": {
        "id": "5siynfo1Yq1p"
      },
      "source": [
        "Another way is to convert incoming text with the <tt><strong>pd.to_datetime()</strong></tt> method:"
      ]
    },
    {
      "cell_type": "code",
      "metadata": {
        "id": "1IqeU5YEZaiq",
        "colab": {
          "base_uri": "https://localhost:8080/"
        },
        "outputId": "954de5d2-3436-4870-ca2b-936c968e7b32"
      },
      "source": [
        "pd.to_datetime(['1/2/2018','Jan 03, 2018'])"
      ],
      "execution_count": null,
      "outputs": [
        {
          "output_type": "execute_result",
          "data": {
            "text/plain": [
              "DatetimeIndex(['2018-01-02', '2018-01-03'], dtype='datetime64[ns]', freq=None)"
            ]
          },
          "metadata": {
            "tags": []
          },
          "execution_count": 83
        }
      ]
    },
    {
      "cell_type": "markdown",
      "metadata": {
        "id": "xn54OapIY5-8"
      },
      "source": [
        "A third way is to pass a list or an array of datetime objects into the <tt><strong>pd.DatetimeIndex()</strong></tt> method:"
      ]
    },
    {
      "cell_type": "code",
      "metadata": {
        "id": "43Z2KkImZair",
        "colab": {
          "base_uri": "https://localhost:8080/"
        },
        "outputId": "c492cbf9-fb59-491d-b340-3f8a1cb42bc0"
      },
      "source": [
        "pd.to_datetime(['2/1/2018','3/1/2018'])#UK Style is not working"
      ],
      "execution_count": null,
      "outputs": [
        {
          "output_type": "execute_result",
          "data": {
            "text/plain": [
              "DatetimeIndex(['2018-02-01', '2018-03-01'], dtype='datetime64[ns]', freq=None)"
            ]
          },
          "metadata": {
            "tags": []
          },
          "execution_count": 84
        }
      ]
    },
    {
      "cell_type": "code",
      "metadata": {
        "id": "5_zr33hkZair",
        "colab": {
          "base_uri": "https://localhost:8080/"
        },
        "outputId": "88626e42-888b-4598-ceef-81a0465408f0"
      },
      "source": [
        "pd.to_datetime(['2/1/2018','3/1/2018'], format='%d/%m/%Y') #Europion"
      ],
      "execution_count": null,
      "outputs": [
        {
          "output_type": "execute_result",
          "data": {
            "text/plain": [
              "DatetimeIndex(['2018-01-02', '2018-01-03'], dtype='datetime64[ns]', freq=None)"
            ]
          },
          "metadata": {
            "tags": []
          },
          "execution_count": 85
        }
      ]
    },
    {
      "cell_type": "code",
      "metadata": {
        "id": "ZXWq34XoZais",
        "colab": {
          "base_uri": "https://localhost:8080/"
        },
        "outputId": "7546ec02-7646-43fd-d7c3-ca215d470fe1"
      },
      "source": [
        "pd.to_datetime(['2--1--2018','3--1--2018'], format='%d--%m--%Y')"
      ],
      "execution_count": null,
      "outputs": [
        {
          "output_type": "execute_result",
          "data": {
            "text/plain": [
              "DatetimeIndex(['2018-01-02', '2018-01-03'], dtype='datetime64[ns]', freq=None)"
            ]
          },
          "metadata": {
            "tags": []
          },
          "execution_count": 86
        }
      ]
    },
    {
      "cell_type": "markdown",
      "metadata": {
        "id": "RuHmtCVmZEuM"
      },
      "source": [
        "Notice that even though the dates came into pandas with a day-level precision, pandas assigns a nanosecond-level precision with the expectation that we might want this later on.\r\n",
        "\r\n",
        "To set an existing column as the index, use <tt>.set_index()</tt><br>\r\n",
        "><tt>df.set_index('Date',inplace=True)</tt>"
      ]
    },
    {
      "cell_type": "markdown",
      "metadata": {
        "id": "FYpTG-ZVZGGP"
      },
      "source": [
        "#### Pandas Datetime Analysis"
      ]
    },
    {
      "cell_type": "code",
      "metadata": {
        "id": "GkcYrcRxZais",
        "colab": {
          "base_uri": "https://localhost:8080/"
        },
        "outputId": "a98b8ca6-ee68-48c5-b6b5-7b66d23c8b1d"
      },
      "source": [
        "data = np.random.randn(3,2)\n",
        "cols = ['A','B']\n",
        "print(data)"
      ],
      "execution_count": null,
      "outputs": [
        {
          "output_type": "stream",
          "text": [
            "[[ 0.10495133  1.59207935]\n",
            " [-0.49124923  0.55600237]\n",
            " [ 0.58519203  0.18345926]]\n"
          ],
          "name": "stdout"
        }
      ]
    },
    {
      "cell_type": "code",
      "metadata": {
        "id": "nBfpxe8eZais"
      },
      "source": [
        "idx = pd.date_range('2020-01-01', periods=3, freq='D')\n",
        "\n",
        "df = pd.DataFrame(data, index=idx, columns=cols)"
      ],
      "execution_count": null,
      "outputs": []
    },
    {
      "cell_type": "code",
      "metadata": {
        "id": "qf7V2ZqNZait",
        "colab": {
          "base_uri": "https://localhost:8080/",
          "height": 136
        },
        "outputId": "e3770bb9-db35-462f-d0fc-d27cb6d90e23"
      },
      "source": [
        "df"
      ],
      "execution_count": null,
      "outputs": [
        {
          "output_type": "execute_result",
          "data": {
            "text/html": [
              "<div>\n",
              "<style scoped>\n",
              "    .dataframe tbody tr th:only-of-type {\n",
              "        vertical-align: middle;\n",
              "    }\n",
              "\n",
              "    .dataframe tbody tr th {\n",
              "        vertical-align: top;\n",
              "    }\n",
              "\n",
              "    .dataframe thead th {\n",
              "        text-align: right;\n",
              "    }\n",
              "</style>\n",
              "<table border=\"1\" class=\"dataframe\">\n",
              "  <thead>\n",
              "    <tr style=\"text-align: right;\">\n",
              "      <th></th>\n",
              "      <th>A</th>\n",
              "      <th>B</th>\n",
              "    </tr>\n",
              "  </thead>\n",
              "  <tbody>\n",
              "    <tr>\n",
              "      <th>2020-01-01</th>\n",
              "      <td>0.104951</td>\n",
              "      <td>1.592079</td>\n",
              "    </tr>\n",
              "    <tr>\n",
              "      <th>2020-01-02</th>\n",
              "      <td>-0.491249</td>\n",
              "      <td>0.556002</td>\n",
              "    </tr>\n",
              "    <tr>\n",
              "      <th>2020-01-03</th>\n",
              "      <td>0.585192</td>\n",
              "      <td>0.183459</td>\n",
              "    </tr>\n",
              "  </tbody>\n",
              "</table>\n",
              "</div>"
            ],
            "text/plain": [
              "                   A         B\n",
              "2020-01-01  0.104951  1.592079\n",
              "2020-01-02 -0.491249  0.556002\n",
              "2020-01-03  0.585192  0.183459"
            ]
          },
          "metadata": {
            "tags": []
          },
          "execution_count": 89
        }
      ]
    },
    {
      "cell_type": "code",
      "metadata": {
        "id": "RlY0uWg2Zaiu",
        "colab": {
          "base_uri": "https://localhost:8080/"
        },
        "outputId": "1917c846-f2f4-4d7b-8190-fc5c2e9367df"
      },
      "source": [
        "df.index"
      ],
      "execution_count": null,
      "outputs": [
        {
          "output_type": "execute_result",
          "data": {
            "text/plain": [
              "DatetimeIndex(['2020-01-01', '2020-01-02', '2020-01-03'], dtype='datetime64[ns]', freq='D')"
            ]
          },
          "metadata": {
            "tags": []
          },
          "execution_count": 90
        }
      ]
    },
    {
      "cell_type": "code",
      "metadata": {
        "id": "9DpyilVCZaiz",
        "colab": {
          "base_uri": "https://localhost:8080/"
        },
        "outputId": "4f9d7169-042b-48c4-b0e1-9e587f11f5ce"
      },
      "source": [
        "df.index.max()"
      ],
      "execution_count": null,
      "outputs": [
        {
          "output_type": "execute_result",
          "data": {
            "text/plain": [
              "Timestamp('2020-01-03 00:00:00', freq='D')"
            ]
          },
          "metadata": {
            "tags": []
          },
          "execution_count": 91
        }
      ]
    },
    {
      "cell_type": "code",
      "metadata": {
        "id": "E92WjtFDZaiz",
        "colab": {
          "base_uri": "https://localhost:8080/"
        },
        "outputId": "15a7c68c-cc1a-4eed-b63b-00718fa57f24"
      },
      "source": [
        "df.index.argmax()"
      ],
      "execution_count": null,
      "outputs": [
        {
          "output_type": "execute_result",
          "data": {
            "text/plain": [
              "2"
            ]
          },
          "metadata": {
            "tags": []
          },
          "execution_count": 92
        }
      ]
    },
    {
      "cell_type": "code",
      "metadata": {
        "id": "L86xa2CTZai0",
        "colab": {
          "base_uri": "https://localhost:8080/"
        },
        "outputId": "7140a4fb-d47a-43a5-dce1-1921ebdfa1ce"
      },
      "source": [
        "df.index.min()"
      ],
      "execution_count": null,
      "outputs": [
        {
          "output_type": "execute_result",
          "data": {
            "text/plain": [
              "Timestamp('2020-01-01 00:00:00', freq='D')"
            ]
          },
          "metadata": {
            "tags": []
          },
          "execution_count": 93
        }
      ]
    },
    {
      "cell_type": "code",
      "metadata": {
        "id": "m93oX1rQZai0",
        "colab": {
          "base_uri": "https://localhost:8080/"
        },
        "outputId": "0ddd8b76-6ad2-47d5-f89c-766335c86711"
      },
      "source": [
        "df.index.argmin()"
      ],
      "execution_count": null,
      "outputs": [
        {
          "output_type": "execute_result",
          "data": {
            "text/plain": [
              "0"
            ]
          },
          "metadata": {
            "tags": []
          },
          "execution_count": 94
        }
      ]
    },
    {
      "cell_type": "markdown",
      "metadata": {
        "id": "8Tr5GE0UZXD4"
      },
      "source": [
        "<div class=\"alert alert-info\"><strong>NOTE:</strong> Normally we would find index locations by running <tt>.idxmin()</tt> or <tt>.idxmax()</tt> on <tt>df['column']</tt> since <tt>.argmin()</tt> and <tt>.argmax()</tt> have been deprecated. However, we still use <tt>.argmin()</tt> and <tt>.argmax()</tt> on the index itself.</div>"
      ]
    },
    {
      "cell_type": "markdown",
      "metadata": {
        "id": "eRalET8UZai1"
      },
      "source": [
        "\n",
        "___"
      ]
    },
    {
      "cell_type": "markdown",
      "metadata": {
        "id": "_HtldjzZZai1"
      },
      "source": [
        "## Time Resapling <a class=\"anchor\" id=\"TimeResapling\"></a>"
      ]
    },
    {
      "cell_type": "code",
      "metadata": {
        "id": "TP0tVpsxZai1"
      },
      "source": [
        "#@title\n",
        "import pandas as pd"
      ],
      "execution_count": 4,
      "outputs": []
    },
    {
      "cell_type": "code",
      "metadata": {
        "colab": {
          "base_uri": "https://localhost:8080/",
          "height": 35
        },
        "id": "ya2Hg1d-Zai1",
        "outputId": "f91a10fb-82f1-4dcb-cb33-5e11775163ac"
      },
      "source": [
        "pwd"
      ],
      "execution_count": 5,
      "outputs": [
        {
          "output_type": "execute_result",
          "data": {
            "application/vnd.google.colaboratory.intrinsic+json": {
              "type": "string"
            },
            "text/plain": [
              "'/content'"
            ]
          },
          "metadata": {
            "tags": []
          },
          "execution_count": 5
        }
      ]
    },
    {
      "cell_type": "code",
      "metadata": {
        "id": "MrjyszO844Pw"
      },
      "source": [
        "#--------Colab-----------\r\n",
        "# To import from google drive of 'starbick.csv' \r\n",
        "# https://drive.google.com/file/d/11Em1TurJJcYlLgHoEB4MYo1H8ejQHP3o/view?usp=sharing \r\n",
        "\r\n",
        "PATH_googleDrive_id = '11Em1TurJJcYlLgHoEB4MYo1H8ejQHP3o'\r\n",
        "PATH_googleDrive = 'starbucks.csv'\r\n",
        "Initial_googleDrive( PATH_googleDrive, PATH_googleDrive_id )"
      ],
      "execution_count": null,
      "outputs": []
    },
    {
      "cell_type": "code",
      "metadata": {
        "id": "P-40fZyiZai2"
      },
      "source": [
        "PATH = PATH_googleDrive\r\n",
        "df = pd.read_csv(PATH, index_col = 'Date')"
      ],
      "execution_count": 9,
      "outputs": []
    },
    {
      "cell_type": "code",
      "metadata": {
        "id": "d8d6DKPMZai2",
        "colab": {
          "base_uri": "https://localhost:8080/",
          "height": 225
        },
        "outputId": "0e8a0d28-399c-4968-e60f-a490b80284e8"
      },
      "source": [
        "df.head()"
      ],
      "execution_count": 10,
      "outputs": [
        {
          "output_type": "execute_result",
          "data": {
            "text/html": [
              "<div>\n",
              "<style scoped>\n",
              "    .dataframe tbody tr th:only-of-type {\n",
              "        vertical-align: middle;\n",
              "    }\n",
              "\n",
              "    .dataframe tbody tr th {\n",
              "        vertical-align: top;\n",
              "    }\n",
              "\n",
              "    .dataframe thead th {\n",
              "        text-align: right;\n",
              "    }\n",
              "</style>\n",
              "<table border=\"1\" class=\"dataframe\">\n",
              "  <thead>\n",
              "    <tr style=\"text-align: right;\">\n",
              "      <th></th>\n",
              "      <th>Close</th>\n",
              "      <th>Volume</th>\n",
              "    </tr>\n",
              "    <tr>\n",
              "      <th>Date</th>\n",
              "      <th></th>\n",
              "      <th></th>\n",
              "    </tr>\n",
              "  </thead>\n",
              "  <tbody>\n",
              "    <tr>\n",
              "      <th>2015-01-02</th>\n",
              "      <td>38.0061</td>\n",
              "      <td>6906098</td>\n",
              "    </tr>\n",
              "    <tr>\n",
              "      <th>2015-01-05</th>\n",
              "      <td>37.2781</td>\n",
              "      <td>11623796</td>\n",
              "    </tr>\n",
              "    <tr>\n",
              "      <th>2015-01-06</th>\n",
              "      <td>36.9748</td>\n",
              "      <td>7664340</td>\n",
              "    </tr>\n",
              "    <tr>\n",
              "      <th>2015-01-07</th>\n",
              "      <td>37.8848</td>\n",
              "      <td>9732554</td>\n",
              "    </tr>\n",
              "    <tr>\n",
              "      <th>2015-01-08</th>\n",
              "      <td>38.4961</td>\n",
              "      <td>13170548</td>\n",
              "    </tr>\n",
              "  </tbody>\n",
              "</table>\n",
              "</div>"
            ],
            "text/plain": [
              "              Close    Volume\n",
              "Date                         \n",
              "2015-01-02  38.0061   6906098\n",
              "2015-01-05  37.2781  11623796\n",
              "2015-01-06  36.9748   7664340\n",
              "2015-01-07  37.8848   9732554\n",
              "2015-01-08  38.4961  13170548"
            ]
          },
          "metadata": {
            "tags": []
          },
          "execution_count": 10
        }
      ]
    },
    {
      "cell_type": "code",
      "metadata": {
        "id": "3cZWmLdDZai2",
        "colab": {
          "base_uri": "https://localhost:8080/"
        },
        "outputId": "2a8ba222-d277-4aae-bd92-dcc510831701"
      },
      "source": [
        "df.info()#To see the amout of dta"
      ],
      "execution_count": 19,
      "outputs": [
        {
          "output_type": "stream",
          "text": [
            "<class 'pandas.core.frame.DataFrame'>\n",
            "Index: 1006 entries, 2015-01-02 to 2018-12-31\n",
            "Data columns (total 2 columns):\n",
            " #   Column  Non-Null Count  Dtype  \n",
            "---  ------  --------------  -----  \n",
            " 0   Close   1006 non-null   float64\n",
            " 1   Volume  1006 non-null   int64  \n",
            "dtypes: float64(1), int64(1)\n",
            "memory usage: 23.6+ KB\n"
          ],
          "name": "stdout"
        }
      ]
    },
    {
      "cell_type": "code",
      "metadata": {
        "id": "bn1V8fe9Zai3",
        "colab": {
          "base_uri": "https://localhost:8080/"
        },
        "outputId": "16f2c00d-2fd7-4f84-ebe5-5325df873567"
      },
      "source": [
        "df.index"
      ],
      "execution_count": 20,
      "outputs": [
        {
          "output_type": "execute_result",
          "data": {
            "text/plain": [
              "Index(['2015-01-02', '2015-01-05', '2015-01-06', '2015-01-07', '2015-01-08',\n",
              "       '2015-01-09', '2015-01-12', '2015-01-13', '2015-01-14', '2015-01-15',\n",
              "       ...\n",
              "       '2018-12-17', '2018-12-18', '2018-12-19', '2018-12-20', '2018-12-21',\n",
              "       '2018-12-24', '2018-12-26', '2018-12-27', '2018-12-28', '2018-12-31'],\n",
              "      dtype='object', name='Date', length=1006)"
            ]
          },
          "metadata": {
            "tags": []
          },
          "execution_count": 20
        }
      ]
    },
    {
      "cell_type": "code",
      "metadata": {
        "id": "COSswgvHZai3"
      },
      "source": [
        "df = pd.read_csv(PATH, index_col = 'Date', parse_dates=True)"
      ],
      "execution_count": 21,
      "outputs": []
    },
    {
      "cell_type": "code",
      "metadata": {
        "id": "_y_wIHJ_Zai3",
        "colab": {
          "base_uri": "https://localhost:8080/",
          "height": 225
        },
        "outputId": "411adcfa-788e-427e-927b-ad762616b782"
      },
      "source": [
        "df.head()"
      ],
      "execution_count": 22,
      "outputs": [
        {
          "output_type": "execute_result",
          "data": {
            "text/html": [
              "<div>\n",
              "<style scoped>\n",
              "    .dataframe tbody tr th:only-of-type {\n",
              "        vertical-align: middle;\n",
              "    }\n",
              "\n",
              "    .dataframe tbody tr th {\n",
              "        vertical-align: top;\n",
              "    }\n",
              "\n",
              "    .dataframe thead th {\n",
              "        text-align: right;\n",
              "    }\n",
              "</style>\n",
              "<table border=\"1\" class=\"dataframe\">\n",
              "  <thead>\n",
              "    <tr style=\"text-align: right;\">\n",
              "      <th></th>\n",
              "      <th>Close</th>\n",
              "      <th>Volume</th>\n",
              "    </tr>\n",
              "    <tr>\n",
              "      <th>Date</th>\n",
              "      <th></th>\n",
              "      <th></th>\n",
              "    </tr>\n",
              "  </thead>\n",
              "  <tbody>\n",
              "    <tr>\n",
              "      <th>2015-01-02</th>\n",
              "      <td>38.0061</td>\n",
              "      <td>6906098</td>\n",
              "    </tr>\n",
              "    <tr>\n",
              "      <th>2015-01-05</th>\n",
              "      <td>37.2781</td>\n",
              "      <td>11623796</td>\n",
              "    </tr>\n",
              "    <tr>\n",
              "      <th>2015-01-06</th>\n",
              "      <td>36.9748</td>\n",
              "      <td>7664340</td>\n",
              "    </tr>\n",
              "    <tr>\n",
              "      <th>2015-01-07</th>\n",
              "      <td>37.8848</td>\n",
              "      <td>9732554</td>\n",
              "    </tr>\n",
              "    <tr>\n",
              "      <th>2015-01-08</th>\n",
              "      <td>38.4961</td>\n",
              "      <td>13170548</td>\n",
              "    </tr>\n",
              "  </tbody>\n",
              "</table>\n",
              "</div>"
            ],
            "text/plain": [
              "              Close    Volume\n",
              "Date                         \n",
              "2015-01-02  38.0061   6906098\n",
              "2015-01-05  37.2781  11623796\n",
              "2015-01-06  36.9748   7664340\n",
              "2015-01-07  37.8848   9732554\n",
              "2015-01-08  38.4961  13170548"
            ]
          },
          "metadata": {
            "tags": []
          },
          "execution_count": 22
        }
      ]
    },
    {
      "cell_type": "code",
      "metadata": {
        "id": "Mk60tJsSZai4",
        "colab": {
          "base_uri": "https://localhost:8080/"
        },
        "outputId": "f2a64f39-deac-438d-a66c-2aa5a6533ff0"
      },
      "source": [
        "df.index"
      ],
      "execution_count": 23,
      "outputs": [
        {
          "output_type": "execute_result",
          "data": {
            "text/plain": [
              "DatetimeIndex(['2015-01-02', '2015-01-05', '2015-01-06', '2015-01-07',\n",
              "               '2015-01-08', '2015-01-09', '2015-01-12', '2015-01-13',\n",
              "               '2015-01-14', '2015-01-15',\n",
              "               ...\n",
              "               '2018-12-17', '2018-12-18', '2018-12-19', '2018-12-20',\n",
              "               '2018-12-21', '2018-12-24', '2018-12-26', '2018-12-27',\n",
              "               '2018-12-28', '2018-12-31'],\n",
              "              dtype='datetime64[ns]', name='Date', length=1006, freq=None)"
            ]
          },
          "metadata": {
            "tags": []
          },
          "execution_count": 23
        }
      ]
    },
    {
      "cell_type": "markdown",
      "metadata": {
        "id": "NH_fadxfZai4"
      },
      "source": [
        "__resample()__\n",
        "\n",
        "A common operation with time series data is resampling based on the time series index. Let's see how to use the resample() method. [[reference](https://pandas.pydata.org/pandas-docs/stable/generated/pandas.DataFrame.resample.html)]"
      ]
    },
    {
      "cell_type": "markdown",
      "metadata": {
        "id": "DVOQgHi3Zai4"
      },
      "source": [
        "When calling `.resample()` you first need to pass in a **rule** parameter, then you need to call some sort of aggregation function.\n",
        "\n",
        "The **rule** parameter describes the frequency with which to apply the aggregation function (daily, monthly, yearly, etc.)<br>\n",
        "It is passed in using an \"offset alias\" - refer to the table below. [[reference](http://pandas.pydata.org/pandas-docs/stable/user_guide/timeseries.html#offset-aliases)]\n",
        "\n",
        "The aggregation function is needed because, due to resampling, we need some sort of mathematical rule to join the rows (mean, sum, count, etc.)"
      ]
    },
    {
      "cell_type": "markdown",
      "metadata": {
        "id": "eQPpZ93QZai5"
      },
      "source": [
        "<table style=\"display: inline-block\">\n",
        "    <caption style=\"text-align: center\"><strong>TIME SERIES OFFSET ALIASES</strong></caption>\n",
        "<tr><th>ALIAS</th><th>DESCRIPTION</th></tr>\n",
        "<tr><td>B</td><td>business day frequency</td></tr>\n",
        "<tr><td>C</td><td>custom business day frequency (experimental)</td></tr>\n",
        "<tr><td>D</td><td>calendar day frequency</td></tr>\n",
        "<tr><td>W</td><td>weekly frequency</td></tr>\n",
        "<tr><td>M</td><td>month end frequency</td></tr>\n",
        "<tr><td>SM</td><td>semi-month end frequency (15th and end of month)</td></tr>\n",
        "<tr><td>BM</td><td>business month end frequency</td></tr>\n",
        "<tr><td>CBM</td><td>custom business month end frequency</td></tr>\n",
        "<tr><td>MS</td><td>month start frequency</td></tr>\n",
        "<tr><td>SMS</td><td>semi-month start frequency (1st and 15th)</td></tr>\n",
        "<tr><td>BMS</td><td>business month start frequency</td></tr>\n",
        "<tr><td>CBMS</td><td>custom business month start frequency</td></tr>\n",
        "<tr><td>Q</td><td>quarter end frequency</td></tr>\n",
        "<tr><td></td><td><font color=white>intentionally left blank</font></td></tr></table>\n",
        "\n",
        "<table style=\"display: inline-block; margin-left: 40px\">\n",
        "<caption style=\"text-align: center\"></caption>\n",
        "<tr><th>ALIAS</th><th>DESCRIPTION</th></tr>\n",
        "<tr><td>BQ</td><td>business quarter endfrequency</td></tr>\n",
        "<tr><td>QS</td><td>quarter start frequency</td></tr>\n",
        "<tr><td>BQS</td><td>business quarter start frequency</td></tr>\n",
        "<tr><td>A</td><td>year end frequency</td></tr>\n",
        "<tr><td>BA</td><td>business year end frequency</td></tr>\n",
        "<tr><td>AS</td><td>year start frequency</td></tr>\n",
        "<tr><td>BAS</td><td>business year start frequency</td></tr>\n",
        "<tr><td>BH</td><td>business hour frequency</td></tr>\n",
        "<tr><td>H</td><td>hourly frequency</td></tr>\n",
        "<tr><td>T, min</td><td>minutely frequency</td></tr>\n",
        "<tr><td>S</td><td>secondly frequency</td></tr>\n",
        "<tr><td>L, ms</td><td>milliseconds</td></tr>\n",
        "<tr><td>U, us</td><td>microseconds</td></tr>\n",
        "<tr><td>N</td><td>nanoseconds</td></tr></table>"
      ]
    },
    {
      "cell_type": "code",
      "metadata": {
        "id": "CQb2NoYoZai5",
        "colab": {
          "base_uri": "https://localhost:8080/",
          "height": 195
        },
        "outputId": "b15e44d1-af3b-4b46-9d75-e91bb8ab9506"
      },
      "source": [
        "# dailt ---> yearly\n",
        "df.resample(rule='A').mean()\n",
        "# .max()\n",
        "# .min()\n",
        "# .std()"
      ],
      "execution_count": 24,
      "outputs": [
        {
          "output_type": "execute_result",
          "data": {
            "text/html": [
              "<div>\n",
              "<style scoped>\n",
              "    .dataframe tbody tr th:only-of-type {\n",
              "        vertical-align: middle;\n",
              "    }\n",
              "\n",
              "    .dataframe tbody tr th {\n",
              "        vertical-align: top;\n",
              "    }\n",
              "\n",
              "    .dataframe thead th {\n",
              "        text-align: right;\n",
              "    }\n",
              "</style>\n",
              "<table border=\"1\" class=\"dataframe\">\n",
              "  <thead>\n",
              "    <tr style=\"text-align: right;\">\n",
              "      <th></th>\n",
              "      <th>Close</th>\n",
              "      <th>Volume</th>\n",
              "    </tr>\n",
              "    <tr>\n",
              "      <th>Date</th>\n",
              "      <th></th>\n",
              "      <th></th>\n",
              "    </tr>\n",
              "  </thead>\n",
              "  <tbody>\n",
              "    <tr>\n",
              "      <th>2015-12-31</th>\n",
              "      <td>50.078100</td>\n",
              "      <td>8.649190e+06</td>\n",
              "    </tr>\n",
              "    <tr>\n",
              "      <th>2016-12-31</th>\n",
              "      <td>53.891732</td>\n",
              "      <td>9.300633e+06</td>\n",
              "    </tr>\n",
              "    <tr>\n",
              "      <th>2017-12-31</th>\n",
              "      <td>55.457310</td>\n",
              "      <td>9.296078e+06</td>\n",
              "    </tr>\n",
              "    <tr>\n",
              "      <th>2018-12-31</th>\n",
              "      <td>56.870005</td>\n",
              "      <td>1.122883e+07</td>\n",
              "    </tr>\n",
              "  </tbody>\n",
              "</table>\n",
              "</div>"
            ],
            "text/plain": [
              "                Close        Volume\n",
              "Date                               \n",
              "2015-12-31  50.078100  8.649190e+06\n",
              "2016-12-31  53.891732  9.300633e+06\n",
              "2017-12-31  55.457310  9.296078e+06\n",
              "2018-12-31  56.870005  1.122883e+07"
            ]
          },
          "metadata": {
            "tags": []
          },
          "execution_count": 24
        }
      ]
    },
    {
      "cell_type": "code",
      "metadata": {
        "id": "IgYXAWiMZai6"
      },
      "source": [
        "def first_day(entry):\n",
        "    \n",
        "    # IS THERE AN ENTRY??\n",
        "    if len(entry) :\n",
        "        #IF SO, RETURN FIRST ENTRY\n",
        "        return entry[0]\n",
        "        "
      ],
      "execution_count": 25,
      "outputs": []
    },
    {
      "cell_type": "code",
      "metadata": {
        "id": "68Mw4QVIZai7",
        "colab": {
          "base_uri": "https://localhost:8080/",
          "height": 195
        },
        "outputId": "212f55a0-3f9e-44ef-dbe1-646883ab5c47"
      },
      "source": [
        "#Apply for seing the first day\n",
        "#Use apply method for applying your custom function\n",
        "df.resample(rule='A').apply(first_day)"
      ],
      "execution_count": 26,
      "outputs": [
        {
          "output_type": "execute_result",
          "data": {
            "text/html": [
              "<div>\n",
              "<style scoped>\n",
              "    .dataframe tbody tr th:only-of-type {\n",
              "        vertical-align: middle;\n",
              "    }\n",
              "\n",
              "    .dataframe tbody tr th {\n",
              "        vertical-align: top;\n",
              "    }\n",
              "\n",
              "    .dataframe thead th {\n",
              "        text-align: right;\n",
              "    }\n",
              "</style>\n",
              "<table border=\"1\" class=\"dataframe\">\n",
              "  <thead>\n",
              "    <tr style=\"text-align: right;\">\n",
              "      <th></th>\n",
              "      <th>Close</th>\n",
              "      <th>Volume</th>\n",
              "    </tr>\n",
              "    <tr>\n",
              "      <th>Date</th>\n",
              "      <th></th>\n",
              "      <th></th>\n",
              "    </tr>\n",
              "  </thead>\n",
              "  <tbody>\n",
              "    <tr>\n",
              "      <th>2015-12-31</th>\n",
              "      <td>38.0061</td>\n",
              "      <td>6906098</td>\n",
              "    </tr>\n",
              "    <tr>\n",
              "      <th>2016-12-31</th>\n",
              "      <td>55.0780</td>\n",
              "      <td>13521544</td>\n",
              "    </tr>\n",
              "    <tr>\n",
              "      <th>2017-12-31</th>\n",
              "      <td>53.1100</td>\n",
              "      <td>7809307</td>\n",
              "    </tr>\n",
              "    <tr>\n",
              "      <th>2018-12-31</th>\n",
              "      <td>56.3243</td>\n",
              "      <td>7215978</td>\n",
              "    </tr>\n",
              "  </tbody>\n",
              "</table>\n",
              "</div>"
            ],
            "text/plain": [
              "              Close    Volume\n",
              "Date                         \n",
              "2015-12-31  38.0061   6906098\n",
              "2016-12-31  55.0780  13521544\n",
              "2017-12-31  53.1100   7809307\n",
              "2018-12-31  56.3243   7215978"
            ]
          },
          "metadata": {
            "tags": []
          },
          "execution_count": 26
        }
      ]
    },
    {
      "cell_type": "code",
      "metadata": {
        "id": "VEmohnlfZai8",
        "colab": {
          "base_uri": "https://localhost:8080/",
          "height": 225
        },
        "outputId": "e133aaaa-1b1a-4edf-9fd3-0a102791d8c6"
      },
      "source": [
        "df.head()"
      ],
      "execution_count": 27,
      "outputs": [
        {
          "output_type": "execute_result",
          "data": {
            "text/html": [
              "<div>\n",
              "<style scoped>\n",
              "    .dataframe tbody tr th:only-of-type {\n",
              "        vertical-align: middle;\n",
              "    }\n",
              "\n",
              "    .dataframe tbody tr th {\n",
              "        vertical-align: top;\n",
              "    }\n",
              "\n",
              "    .dataframe thead th {\n",
              "        text-align: right;\n",
              "    }\n",
              "</style>\n",
              "<table border=\"1\" class=\"dataframe\">\n",
              "  <thead>\n",
              "    <tr style=\"text-align: right;\">\n",
              "      <th></th>\n",
              "      <th>Close</th>\n",
              "      <th>Volume</th>\n",
              "    </tr>\n",
              "    <tr>\n",
              "      <th>Date</th>\n",
              "      <th></th>\n",
              "      <th></th>\n",
              "    </tr>\n",
              "  </thead>\n",
              "  <tbody>\n",
              "    <tr>\n",
              "      <th>2015-01-02</th>\n",
              "      <td>38.0061</td>\n",
              "      <td>6906098</td>\n",
              "    </tr>\n",
              "    <tr>\n",
              "      <th>2015-01-05</th>\n",
              "      <td>37.2781</td>\n",
              "      <td>11623796</td>\n",
              "    </tr>\n",
              "    <tr>\n",
              "      <th>2015-01-06</th>\n",
              "      <td>36.9748</td>\n",
              "      <td>7664340</td>\n",
              "    </tr>\n",
              "    <tr>\n",
              "      <th>2015-01-07</th>\n",
              "      <td>37.8848</td>\n",
              "      <td>9732554</td>\n",
              "    </tr>\n",
              "    <tr>\n",
              "      <th>2015-01-08</th>\n",
              "      <td>38.4961</td>\n",
              "      <td>13170548</td>\n",
              "    </tr>\n",
              "  </tbody>\n",
              "</table>\n",
              "</div>"
            ],
            "text/plain": [
              "              Close    Volume\n",
              "Date                         \n",
              "2015-01-02  38.0061   6906098\n",
              "2015-01-05  37.2781  11623796\n",
              "2015-01-06  36.9748   7664340\n",
              "2015-01-07  37.8848   9732554\n",
              "2015-01-08  38.4961  13170548"
            ]
          },
          "metadata": {
            "tags": []
          },
          "execution_count": 27
        }
      ]
    },
    {
      "cell_type": "code",
      "metadata": {
        "id": "YPyLFdSRZai9",
        "colab": {
          "base_uri": "https://localhost:8080/",
          "height": 391
        },
        "outputId": "90dfd032-6250-422c-9f0a-37dc476e9436"
      },
      "source": [
        "%matplotlib inline\r\n",
        "df['Close'].resample('A').mean().plot.bar()"
      ],
      "execution_count": 28,
      "outputs": [
        {
          "output_type": "execute_result",
          "data": {
            "text/plain": [
              "<matplotlib.axes._subplots.AxesSubplot at 0x7f4b8bfae550>"
            ]
          },
          "metadata": {
            "tags": []
          },
          "execution_count": 28
        },
        {
          "output_type": "display_data",
          "data": {
            "image/png": "[encoded data removed]",
            "text/plain": [
              "<Figure size 432x288 with 1 Axes>"
            ]
          },
          "metadata": {
            "tags": [],
            "needs_background": "light"
          }
        }
      ]
    },
    {
      "cell_type": "code",
      "metadata": {
        "id": "JSdQqEu0Osc_",
        "colab": {
          "base_uri": "https://localhost:8080/",
          "height": 516
        },
        "outputId": "09ab11b5-96fe-4dc3-c5be-4d104eacc040"
      },
      "source": [
        "title = 'Monthly Max Closing Price for Starbucks'\r\n",
        "df['Close'].resample('M').max().plot.bar(figsize=(16,6), title=title, color='#1f77b4')"
      ],
      "execution_count": 31,
      "outputs": [
        {
          "output_type": "execute_result",
          "data": {
            "text/plain": [
              "<matplotlib.axes._subplots.AxesSubplot at 0x7f4b8b81e588>"
            ]
          },
          "metadata": {
            "tags": []
          },
          "execution_count": 31
        },
        {
          "output_type": "display_data",
          "data": {
            "image/png": "[encoded data removed]",
            "text/plain": [
              "<Figure size 1152x432 with 1 Axes>"
            ]
          },
          "metadata": {
            "tags": [],
            "needs_background": "light"
          }
        }
      ]
    },
    {
      "cell_type": "code",
      "metadata": {
        "id": "vgU95aGMRwy4"
      },
      "source": [
        ""
      ],
      "execution_count": 29,
      "outputs": []
    },
    {
      "cell_type": "markdown",
      "metadata": {
        "id": "1yM3r6Qs32aZ"
      },
      "source": [
        "## Time Shifting <a class=\"anchor\" id=\"TimeShifting\"></a>"
      ]
    },
    {
      "cell_type": "code",
      "metadata": {
        "id": "o4Dl3wFh36Ca"
      },
      "source": [
        "import pandas as pd"
      ],
      "execution_count": 4,
      "outputs": []
    },
    {
      "cell_type": "code",
      "metadata": {
        "id": "Ow5g7YjF399M"
      },
      "source": [
        "PATH_googleDrive_id = '11Em1TurJJcYlLgHoEB4MYo1H8ejQHP3o'\r\n",
        "PATH_googleDrive = 'starbucks.csv'\r\n",
        "Initial_googleDrive( PATH_googleDrive, PATH_googleDrive_id )\r\n",
        "\r\n",
        "PATH = PATH_googleDrive\r\n",
        "df = pd.read_csv(PATH, index_col = 'Date', parse_dates=True)"
      ],
      "execution_count": null,
      "outputs": []
    },
    {
      "cell_type": "markdown",
      "metadata": {
        "id": "hn3gPvAU6ccU"
      },
      "source": [
        "#### See the last: df.tail()"
      ]
    },
    {
      "cell_type": "code",
      "metadata": {
        "colab": {
          "base_uri": "https://localhost:8080/",
          "height": 225
        },
        "id": "t5JwYkYQ5wv0",
        "outputId": "366e0bad-260d-4464-de55-eb6c7b9b0ad8"
      },
      "source": [
        "df.tail() "
      ],
      "execution_count": 20,
      "outputs": [
        {
          "output_type": "execute_result",
          "data": {
            "text/html": [
              "<div>\n",
              "<style scoped>\n",
              "    .dataframe tbody tr th:only-of-type {\n",
              "        vertical-align: middle;\n",
              "    }\n",
              "\n",
              "    .dataframe tbody tr th {\n",
              "        vertical-align: top;\n",
              "    }\n",
              "\n",
              "    .dataframe thead th {\n",
              "        text-align: right;\n",
              "    }\n",
              "</style>\n",
              "<table border=\"1\" class=\"dataframe\">\n",
              "  <thead>\n",
              "    <tr style=\"text-align: right;\">\n",
              "      <th></th>\n",
              "      <th>Close</th>\n",
              "      <th>Volume</th>\n",
              "    </tr>\n",
              "    <tr>\n",
              "      <th>Date</th>\n",
              "      <th></th>\n",
              "      <th></th>\n",
              "    </tr>\n",
              "  </thead>\n",
              "  <tbody>\n",
              "    <tr>\n",
              "      <th>2018-12-24</th>\n",
              "      <td>60.56</td>\n",
              "      <td>6323252</td>\n",
              "    </tr>\n",
              "    <tr>\n",
              "      <th>2018-12-26</th>\n",
              "      <td>63.08</td>\n",
              "      <td>16646238</td>\n",
              "    </tr>\n",
              "    <tr>\n",
              "      <th>2018-12-27</th>\n",
              "      <td>63.20</td>\n",
              "      <td>11308081</td>\n",
              "    </tr>\n",
              "    <tr>\n",
              "      <th>2018-12-28</th>\n",
              "      <td>63.39</td>\n",
              "      <td>7712127</td>\n",
              "    </tr>\n",
              "    <tr>\n",
              "      <th>2018-12-31</th>\n",
              "      <td>64.40</td>\n",
              "      <td>7690183</td>\n",
              "    </tr>\n",
              "  </tbody>\n",
              "</table>\n",
              "</div>"
            ],
            "text/plain": [
              "            Close    Volume\n",
              "Date                       \n",
              "2018-12-24  60.56   6323252\n",
              "2018-12-26  63.08  16646238\n",
              "2018-12-27  63.20  11308081\n",
              "2018-12-28  63.39   7712127\n",
              "2018-12-31  64.40   7690183"
            ]
          },
          "metadata": {
            "tags": []
          },
          "execution_count": 20
        }
      ]
    },
    {
      "cell_type": "code",
      "metadata": {
        "colab": {
          "base_uri": "https://localhost:8080/",
          "height": 225
        },
        "id": "syiN5m_66ZKT",
        "outputId": "0e50e531-e070-45e1-9729-20e3754da9dc"
      },
      "source": [
        "df.shift(1).tail() #Shift every row down: 1"
      ],
      "execution_count": 24,
      "outputs": [
        {
          "output_type": "execute_result",
          "data": {
            "text/html": [
              "<div>\n",
              "<style scoped>\n",
              "    .dataframe tbody tr th:only-of-type {\n",
              "        vertical-align: middle;\n",
              "    }\n",
              "\n",
              "    .dataframe tbody tr th {\n",
              "        vertical-align: top;\n",
              "    }\n",
              "\n",
              "    .dataframe thead th {\n",
              "        text-align: right;\n",
              "    }\n",
              "</style>\n",
              "<table border=\"1\" class=\"dataframe\">\n",
              "  <thead>\n",
              "    <tr style=\"text-align: right;\">\n",
              "      <th></th>\n",
              "      <th>Close</th>\n",
              "      <th>Volume</th>\n",
              "    </tr>\n",
              "    <tr>\n",
              "      <th>Date</th>\n",
              "      <th></th>\n",
              "      <th></th>\n",
              "    </tr>\n",
              "  </thead>\n",
              "  <tbody>\n",
              "    <tr>\n",
              "      <th>2018-12-24</th>\n",
              "      <td>61.39</td>\n",
              "      <td>23524888.0</td>\n",
              "    </tr>\n",
              "    <tr>\n",
              "      <th>2018-12-26</th>\n",
              "      <td>60.56</td>\n",
              "      <td>6323252.0</td>\n",
              "    </tr>\n",
              "    <tr>\n",
              "      <th>2018-12-27</th>\n",
              "      <td>63.08</td>\n",
              "      <td>16646238.0</td>\n",
              "    </tr>\n",
              "    <tr>\n",
              "      <th>2018-12-28</th>\n",
              "      <td>63.20</td>\n",
              "      <td>11308081.0</td>\n",
              "    </tr>\n",
              "    <tr>\n",
              "      <th>2018-12-31</th>\n",
              "      <td>63.39</td>\n",
              "      <td>7712127.0</td>\n",
              "    </tr>\n",
              "  </tbody>\n",
              "</table>\n",
              "</div>"
            ],
            "text/plain": [
              "            Close      Volume\n",
              "Date                         \n",
              "2018-12-24  61.39  23524888.0\n",
              "2018-12-26  60.56   6323252.0\n",
              "2018-12-27  63.08  16646238.0\n",
              "2018-12-28  63.20  11308081.0\n",
              "2018-12-31  63.39   7712127.0"
            ]
          },
          "metadata": {
            "tags": []
          },
          "execution_count": 24
        }
      ]
    },
    {
      "cell_type": "code",
      "metadata": {
        "colab": {
          "base_uri": "https://localhost:8080/",
          "height": 225
        },
        "id": "sGu0BTdD62Kd",
        "outputId": "27c22474-8ec8-4dee-8772-27e862ca3af1"
      },
      "source": [
        "df.shift(-1).tail() #Shift every row up: 1"
      ],
      "execution_count": 26,
      "outputs": [
        {
          "output_type": "execute_result",
          "data": {
            "text/html": [
              "<div>\n",
              "<style scoped>\n",
              "    .dataframe tbody tr th:only-of-type {\n",
              "        vertical-align: middle;\n",
              "    }\n",
              "\n",
              "    .dataframe tbody tr th {\n",
              "        vertical-align: top;\n",
              "    }\n",
              "\n",
              "    .dataframe thead th {\n",
              "        text-align: right;\n",
              "    }\n",
              "</style>\n",
              "<table border=\"1\" class=\"dataframe\">\n",
              "  <thead>\n",
              "    <tr style=\"text-align: right;\">\n",
              "      <th></th>\n",
              "      <th>Close</th>\n",
              "      <th>Volume</th>\n",
              "    </tr>\n",
              "    <tr>\n",
              "      <th>Date</th>\n",
              "      <th></th>\n",
              "      <th></th>\n",
              "    </tr>\n",
              "  </thead>\n",
              "  <tbody>\n",
              "    <tr>\n",
              "      <th>2018-12-24</th>\n",
              "      <td>63.08</td>\n",
              "      <td>16646238.0</td>\n",
              "    </tr>\n",
              "    <tr>\n",
              "      <th>2018-12-26</th>\n",
              "      <td>63.20</td>\n",
              "      <td>11308081.0</td>\n",
              "    </tr>\n",
              "    <tr>\n",
              "      <th>2018-12-27</th>\n",
              "      <td>63.39</td>\n",
              "      <td>7712127.0</td>\n",
              "    </tr>\n",
              "    <tr>\n",
              "      <th>2018-12-28</th>\n",
              "      <td>64.40</td>\n",
              "      <td>7690183.0</td>\n",
              "    </tr>\n",
              "    <tr>\n",
              "      <th>2018-12-31</th>\n",
              "      <td>NaN</td>\n",
              "      <td>NaN</td>\n",
              "    </tr>\n",
              "  </tbody>\n",
              "</table>\n",
              "</div>"
            ],
            "text/plain": [
              "            Close      Volume\n",
              "Date                         \n",
              "2018-12-24  63.08  16646238.0\n",
              "2018-12-26  63.20  11308081.0\n",
              "2018-12-27  63.39   7712127.0\n",
              "2018-12-28  64.40   7690183.0\n",
              "2018-12-31    NaN         NaN"
            ]
          },
          "metadata": {
            "tags": []
          },
          "execution_count": 26
        }
      ]
    },
    {
      "cell_type": "code",
      "metadata": {
        "colab": {
          "base_uri": "https://localhost:8080/",
          "height": 225
        },
        "id": "59RAGqiz7rhb",
        "outputId": "7433ae69-ba6f-4008-8cc1-87a2ece3a87e"
      },
      "source": [
        "df.head()"
      ],
      "execution_count": 30,
      "outputs": [
        {
          "output_type": "execute_result",
          "data": {
            "text/html": [
              "<div>\n",
              "<style scoped>\n",
              "    .dataframe tbody tr th:only-of-type {\n",
              "        vertical-align: middle;\n",
              "    }\n",
              "\n",
              "    .dataframe tbody tr th {\n",
              "        vertical-align: top;\n",
              "    }\n",
              "\n",
              "    .dataframe thead th {\n",
              "        text-align: right;\n",
              "    }\n",
              "</style>\n",
              "<table border=\"1\" class=\"dataframe\">\n",
              "  <thead>\n",
              "    <tr style=\"text-align: right;\">\n",
              "      <th></th>\n",
              "      <th>Close</th>\n",
              "      <th>Volume</th>\n",
              "    </tr>\n",
              "    <tr>\n",
              "      <th>Date</th>\n",
              "      <th></th>\n",
              "      <th></th>\n",
              "    </tr>\n",
              "  </thead>\n",
              "  <tbody>\n",
              "    <tr>\n",
              "      <th>2015-01-02</th>\n",
              "      <td>38.0061</td>\n",
              "      <td>6906098</td>\n",
              "    </tr>\n",
              "    <tr>\n",
              "      <th>2015-01-05</th>\n",
              "      <td>37.2781</td>\n",
              "      <td>11623796</td>\n",
              "    </tr>\n",
              "    <tr>\n",
              "      <th>2015-01-06</th>\n",
              "      <td>36.9748</td>\n",
              "      <td>7664340</td>\n",
              "    </tr>\n",
              "    <tr>\n",
              "      <th>2015-01-07</th>\n",
              "      <td>37.8848</td>\n",
              "      <td>9732554</td>\n",
              "    </tr>\n",
              "    <tr>\n",
              "      <th>2015-01-08</th>\n",
              "      <td>38.4961</td>\n",
              "      <td>13170548</td>\n",
              "    </tr>\n",
              "  </tbody>\n",
              "</table>\n",
              "</div>"
            ],
            "text/plain": [
              "              Close    Volume\n",
              "Date                         \n",
              "2015-01-02  38.0061   6906098\n",
              "2015-01-05  37.2781  11623796\n",
              "2015-01-06  36.9748   7664340\n",
              "2015-01-07  37.8848   9732554\n",
              "2015-01-08  38.4961  13170548"
            ]
          },
          "metadata": {
            "tags": []
          },
          "execution_count": 30
        }
      ]
    },
    {
      "cell_type": "code",
      "metadata": {
        "colab": {
          "base_uri": "https://localhost:8080/",
          "height": 373
        },
        "id": "i84kqsQn7Emz",
        "outputId": "5a7d8088-edc0-418a-888e-68c4d9e4260b"
      },
      "source": [
        "df.shift(periods=1, freq='M').head(10)"
      ],
      "execution_count": 31,
      "outputs": [
        {
          "output_type": "execute_result",
          "data": {
            "text/html": [
              "<div>\n",
              "<style scoped>\n",
              "    .dataframe tbody tr th:only-of-type {\n",
              "        vertical-align: middle;\n",
              "    }\n",
              "\n",
              "    .dataframe tbody tr th {\n",
              "        vertical-align: top;\n",
              "    }\n",
              "\n",
              "    .dataframe thead th {\n",
              "        text-align: right;\n",
              "    }\n",
              "</style>\n",
              "<table border=\"1\" class=\"dataframe\">\n",
              "  <thead>\n",
              "    <tr style=\"text-align: right;\">\n",
              "      <th></th>\n",
              "      <th>Close</th>\n",
              "      <th>Volume</th>\n",
              "    </tr>\n",
              "    <tr>\n",
              "      <th>Date</th>\n",
              "      <th></th>\n",
              "      <th></th>\n",
              "    </tr>\n",
              "  </thead>\n",
              "  <tbody>\n",
              "    <tr>\n",
              "      <th>2015-01-31</th>\n",
              "      <td>38.0061</td>\n",
              "      <td>6906098</td>\n",
              "    </tr>\n",
              "    <tr>\n",
              "      <th>2015-01-31</th>\n",
              "      <td>37.2781</td>\n",
              "      <td>11623796</td>\n",
              "    </tr>\n",
              "    <tr>\n",
              "      <th>2015-01-31</th>\n",
              "      <td>36.9748</td>\n",
              "      <td>7664340</td>\n",
              "    </tr>\n",
              "    <tr>\n",
              "      <th>2015-01-31</th>\n",
              "      <td>37.8848</td>\n",
              "      <td>9732554</td>\n",
              "    </tr>\n",
              "    <tr>\n",
              "      <th>2015-01-31</th>\n",
              "      <td>38.4961</td>\n",
              "      <td>13170548</td>\n",
              "    </tr>\n",
              "    <tr>\n",
              "      <th>2015-01-31</th>\n",
              "      <td>37.2361</td>\n",
              "      <td>27556706</td>\n",
              "    </tr>\n",
              "    <tr>\n",
              "      <th>2015-01-31</th>\n",
              "      <td>37.4415</td>\n",
              "      <td>10021486</td>\n",
              "    </tr>\n",
              "    <tr>\n",
              "      <th>2015-01-31</th>\n",
              "      <td>37.7401</td>\n",
              "      <td>11040702</td>\n",
              "    </tr>\n",
              "    <tr>\n",
              "      <th>2015-01-31</th>\n",
              "      <td>37.5301</td>\n",
              "      <td>9295084</td>\n",
              "    </tr>\n",
              "    <tr>\n",
              "      <th>2015-01-31</th>\n",
              "      <td>37.1381</td>\n",
              "      <td>8126602</td>\n",
              "    </tr>\n",
              "  </tbody>\n",
              "</table>\n",
              "</div>"
            ],
            "text/plain": [
              "              Close    Volume\n",
              "Date                         \n",
              "2015-01-31  38.0061   6906098\n",
              "2015-01-31  37.2781  11623796\n",
              "2015-01-31  36.9748   7664340\n",
              "2015-01-31  37.8848   9732554\n",
              "2015-01-31  38.4961  13170548\n",
              "2015-01-31  37.2361  27556706\n",
              "2015-01-31  37.4415  10021486\n",
              "2015-01-31  37.7401  11040702\n",
              "2015-01-31  37.5301   9295084\n",
              "2015-01-31  37.1381   8126602"
            ]
          },
          "metadata": {
            "tags": []
          },
          "execution_count": 31
        }
      ]
    },
    {
      "cell_type": "code",
      "metadata": {
        "colab": {
          "base_uri": "https://localhost:8080/",
          "height": 225
        },
        "id": "yHoP97Je7hd0",
        "outputId": "93d638cb-8a95-4586-e988-bfd23026795d"
      },
      "source": [
        "df.shift(1,fill_value=0).head() #If you do not need to fill with n/a, you can specify using fill_value parameter"
      ],
      "execution_count": 33,
      "outputs": [
        {
          "output_type": "execute_result",
          "data": {
            "text/html": [
              "<div>\n",
              "<style scoped>\n",
              "    .dataframe tbody tr th:only-of-type {\n",
              "        vertical-align: middle;\n",
              "    }\n",
              "\n",
              "    .dataframe tbody tr th {\n",
              "        vertical-align: top;\n",
              "    }\n",
              "\n",
              "    .dataframe thead th {\n",
              "        text-align: right;\n",
              "    }\n",
              "</style>\n",
              "<table border=\"1\" class=\"dataframe\">\n",
              "  <thead>\n",
              "    <tr style=\"text-align: right;\">\n",
              "      <th></th>\n",
              "      <th>Close</th>\n",
              "      <th>Volume</th>\n",
              "    </tr>\n",
              "    <tr>\n",
              "      <th>Date</th>\n",
              "      <th></th>\n",
              "      <th></th>\n",
              "    </tr>\n",
              "  </thead>\n",
              "  <tbody>\n",
              "    <tr>\n",
              "      <th>2015-01-02</th>\n",
              "      <td>0.0000</td>\n",
              "      <td>0</td>\n",
              "    </tr>\n",
              "    <tr>\n",
              "      <th>2015-01-05</th>\n",
              "      <td>38.0061</td>\n",
              "      <td>6906098</td>\n",
              "    </tr>\n",
              "    <tr>\n",
              "      <th>2015-01-06</th>\n",
              "      <td>37.2781</td>\n",
              "      <td>11623796</td>\n",
              "    </tr>\n",
              "    <tr>\n",
              "      <th>2015-01-07</th>\n",
              "      <td>36.9748</td>\n",
              "      <td>7664340</td>\n",
              "    </tr>\n",
              "    <tr>\n",
              "      <th>2015-01-08</th>\n",
              "      <td>37.8848</td>\n",
              "      <td>9732554</td>\n",
              "    </tr>\n",
              "  </tbody>\n",
              "</table>\n",
              "</div>"
            ],
            "text/plain": [
              "              Close    Volume\n",
              "Date                         \n",
              "2015-01-02   0.0000         0\n",
              "2015-01-05  38.0061   6906098\n",
              "2015-01-06  37.2781  11623796\n",
              "2015-01-07  36.9748   7664340\n",
              "2015-01-08  37.8848   9732554"
            ]
          },
          "metadata": {
            "tags": []
          },
          "execution_count": 33
        }
      ]
    },
    {
      "cell_type": "markdown",
      "metadata": {
        "id": "NOTYeg4C8crD"
      },
      "source": [
        "## Rolling and Expanding <a class=\"anchor\" id=\"RollingandExpanding\"></a>\r\n",
        "\r\n"
      ]
    },
    {
      "cell_type": "markdown",
      "metadata": {
        "id": "oHbom1PMCaG6"
      },
      "source": [
        "### Rolling\r\n",
        "A common process with time series is to create data based off of a rolling mean. The idea is to divide the data into \"windows\" of time, and then calculate an aggregate function for each window. In this way we obtain a <em>simple moving average</em>. Let's show how to do this easily with pandas!"
      ]
    },
    {
      "cell_type": "code",
      "metadata": {
        "id": "IXEr5aKq8gKr"
      },
      "source": [
        "import pandas as pd"
      ],
      "execution_count": 34,
      "outputs": []
    },
    {
      "cell_type": "code",
      "metadata": {
        "id": "_-5lN8-18ncM"
      },
      "source": [
        "%matplotlib inline"
      ],
      "execution_count": 35,
      "outputs": []
    },
    {
      "cell_type": "code",
      "metadata": {
        "id": "I0hHcDqb8qzo"
      },
      "source": [
        "PATH_googleDrive_id = '11Em1TurJJcYlLgHoEB4MYo1H8ejQHP3o'\r\n",
        "PATH_googleDrive = 'starbucks.csv'\r\n",
        "Initial_googleDrive( PATH_googleDrive, PATH_googleDrive_id )\r\n",
        "\r\n",
        "PATH = PATH_googleDrive\r\n",
        "df = pd.read_csv(PATH, index_col = 'Date', parse_dates=True)"
      ],
      "execution_count": 39,
      "outputs": []
    },
    {
      "cell_type": "code",
      "metadata": {
        "colab": {
          "base_uri": "https://localhost:8080/",
          "height": 225
        },
        "id": "f61ZecZL9BvR",
        "outputId": "e41462bb-68c4-4d6d-8e5f-54d7bca7316d"
      },
      "source": [
        "df.head()"
      ],
      "execution_count": 40,
      "outputs": [
        {
          "output_type": "execute_result",
          "data": {
            "text/html": [
              "<div>\n",
              "<style scoped>\n",
              "    .dataframe tbody tr th:only-of-type {\n",
              "        vertical-align: middle;\n",
              "    }\n",
              "\n",
              "    .dataframe tbody tr th {\n",
              "        vertical-align: top;\n",
              "    }\n",
              "\n",
              "    .dataframe thead th {\n",
              "        text-align: right;\n",
              "    }\n",
              "</style>\n",
              "<table border=\"1\" class=\"dataframe\">\n",
              "  <thead>\n",
              "    <tr style=\"text-align: right;\">\n",
              "      <th></th>\n",
              "      <th>Close</th>\n",
              "      <th>Volume</th>\n",
              "    </tr>\n",
              "    <tr>\n",
              "      <th>Date</th>\n",
              "      <th></th>\n",
              "      <th></th>\n",
              "    </tr>\n",
              "  </thead>\n",
              "  <tbody>\n",
              "    <tr>\n",
              "      <th>2015-01-02</th>\n",
              "      <td>38.0061</td>\n",
              "      <td>6906098</td>\n",
              "    </tr>\n",
              "    <tr>\n",
              "      <th>2015-01-05</th>\n",
              "      <td>37.2781</td>\n",
              "      <td>11623796</td>\n",
              "    </tr>\n",
              "    <tr>\n",
              "      <th>2015-01-06</th>\n",
              "      <td>36.9748</td>\n",
              "      <td>7664340</td>\n",
              "    </tr>\n",
              "    <tr>\n",
              "      <th>2015-01-07</th>\n",
              "      <td>37.8848</td>\n",
              "      <td>9732554</td>\n",
              "    </tr>\n",
              "    <tr>\n",
              "      <th>2015-01-08</th>\n",
              "      <td>38.4961</td>\n",
              "      <td>13170548</td>\n",
              "    </tr>\n",
              "  </tbody>\n",
              "</table>\n",
              "</div>"
            ],
            "text/plain": [
              "              Close    Volume\n",
              "Date                         \n",
              "2015-01-02  38.0061   6906098\n",
              "2015-01-05  37.2781  11623796\n",
              "2015-01-06  36.9748   7664340\n",
              "2015-01-07  37.8848   9732554\n",
              "2015-01-08  38.4961  13170548"
            ]
          },
          "metadata": {
            "tags": []
          },
          "execution_count": 40
        }
      ]
    },
    {
      "cell_type": "code",
      "metadata": {
        "colab": {
          "base_uri": "https://localhost:8080/",
          "height": 343
        },
        "id": "Rm0ChRfY9dTk",
        "outputId": "c22cb7c5-2150-4450-813a-6d0f7851924c"
      },
      "source": [
        "df['Close'].plot(figsize=(12,5))"
      ],
      "execution_count": 41,
      "outputs": [
        {
          "output_type": "execute_result",
          "data": {
            "text/plain": [
              "<matplotlib.axes._subplots.AxesSubplot at 0x7f53eeeffc88>"
            ]
          },
          "metadata": {
            "tags": []
          },
          "execution_count": 41
        },
        {
          "output_type": "display_data",
          "data": {
            "image/png": "[encoded data removed]",
            "text/plain": [
              "<Figure size 864x360 with 1 Axes>"
            ]
          },
          "metadata": {
            "tags": [],
            "needs_background": "light"
          }
        }
      ]
    },
    {
      "cell_type": "markdown",
      "metadata": {
        "id": "SGLrTRetCJLg"
      },
      "source": [
        "Now let's add in a rolling mean! This rolling method provides row entries, where every entry is then representative of the window. "
      ]
    },
    {
      "cell_type": "code",
      "metadata": {
        "colab": {
          "base_uri": "https://localhost:8080/",
          "height": 373
        },
        "id": "S90l-oMf9jLZ",
        "outputId": "a7cbd674-97b5-4f8f-bfdb-9bb1dcb7f24d"
      },
      "source": [
        "df.rolling(window=7).mean().head(10) #the 7th will the average of 7 data before including itself"
      ],
      "execution_count": 45,
      "outputs": [
        {
          "output_type": "execute_result",
          "data": {
            "text/html": [
              "<div>\n",
              "<style scoped>\n",
              "    .dataframe tbody tr th:only-of-type {\n",
              "        vertical-align: middle;\n",
              "    }\n",
              "\n",
              "    .dataframe tbody tr th {\n",
              "        vertical-align: top;\n",
              "    }\n",
              "\n",
              "    .dataframe thead th {\n",
              "        text-align: right;\n",
              "    }\n",
              "</style>\n",
              "<table border=\"1\" class=\"dataframe\">\n",
              "  <thead>\n",
              "    <tr style=\"text-align: right;\">\n",
              "      <th></th>\n",
              "      <th>Close</th>\n",
              "      <th>Volume</th>\n",
              "    </tr>\n",
              "    <tr>\n",
              "      <th>Date</th>\n",
              "      <th></th>\n",
              "      <th></th>\n",
              "    </tr>\n",
              "  </thead>\n",
              "  <tbody>\n",
              "    <tr>\n",
              "      <th>2015-01-02</th>\n",
              "      <td>NaN</td>\n",
              "      <td>NaN</td>\n",
              "    </tr>\n",
              "    <tr>\n",
              "      <th>2015-01-05</th>\n",
              "      <td>NaN</td>\n",
              "      <td>NaN</td>\n",
              "    </tr>\n",
              "    <tr>\n",
              "      <th>2015-01-06</th>\n",
              "      <td>NaN</td>\n",
              "      <td>NaN</td>\n",
              "    </tr>\n",
              "    <tr>\n",
              "      <th>2015-01-07</th>\n",
              "      <td>NaN</td>\n",
              "      <td>NaN</td>\n",
              "    </tr>\n",
              "    <tr>\n",
              "      <th>2015-01-08</th>\n",
              "      <td>NaN</td>\n",
              "      <td>NaN</td>\n",
              "    </tr>\n",
              "    <tr>\n",
              "      <th>2015-01-09</th>\n",
              "      <td>NaN</td>\n",
              "      <td>NaN</td>\n",
              "    </tr>\n",
              "    <tr>\n",
              "      <th>2015-01-12</th>\n",
              "      <td>37.616786</td>\n",
              "      <td>1.238222e+07</td>\n",
              "    </tr>\n",
              "    <tr>\n",
              "      <th>2015-01-13</th>\n",
              "      <td>37.578786</td>\n",
              "      <td>1.297288e+07</td>\n",
              "    </tr>\n",
              "    <tr>\n",
              "      <th>2015-01-14</th>\n",
              "      <td>37.614786</td>\n",
              "      <td>1.264020e+07</td>\n",
              "    </tr>\n",
              "    <tr>\n",
              "      <th>2015-01-15</th>\n",
              "      <td>37.638114</td>\n",
              "      <td>1.270624e+07</td>\n",
              "    </tr>\n",
              "  </tbody>\n",
              "</table>\n",
              "</div>"
            ],
            "text/plain": [
              "                Close        Volume\n",
              "Date                               \n",
              "2015-01-02        NaN           NaN\n",
              "2015-01-05        NaN           NaN\n",
              "2015-01-06        NaN           NaN\n",
              "2015-01-07        NaN           NaN\n",
              "2015-01-08        NaN           NaN\n",
              "2015-01-09        NaN           NaN\n",
              "2015-01-12  37.616786  1.238222e+07\n",
              "2015-01-13  37.578786  1.297288e+07\n",
              "2015-01-14  37.614786  1.264020e+07\n",
              "2015-01-15  37.638114  1.270624e+07"
            ]
          },
          "metadata": {
            "tags": []
          },
          "execution_count": 45
        }
      ]
    },
    {
      "cell_type": "markdown",
      "metadata": {
        "id": "ZydPRZ07CMa5"
      },
      "source": [
        "The easiest way to add a legend is to make the rolling value a new column, then pandas does it automatically!"
      ]
    },
    {
      "cell_type": "code",
      "metadata": {
        "colab": {
          "base_uri": "https://localhost:8080/",
          "height": 343
        },
        "id": "an6FCHtX92Sj",
        "outputId": "542d25fc-0118-4337-8e11-49c5c9d9cf2b"
      },
      "source": [
        "# 30 days rolling\r\n",
        "df['Close'].plot(figsize=(12,5))\r\n",
        "df.rolling(window=30).mean()['Close'].plot()"
      ],
      "execution_count": 47,
      "outputs": [
        {
          "output_type": "execute_result",
          "data": {
            "text/plain": [
              "<matplotlib.axes._subplots.AxesSubplot at 0x7f53ee961048>"
            ]
          },
          "metadata": {
            "tags": []
          },
          "execution_count": 47
        },
        {
          "output_type": "display_data",
          "data": {
            "image/png": "[encoded data removed]",
            "text/plain": [
              "<Figure size 864x360 with 1 Axes>"
            ]
          },
          "metadata": {
            "tags": [],
            "needs_background": "light"
          }
        }
      ]
    },
    {
      "cell_type": "code",
      "metadata": {
        "colab": {
          "base_uri": "https://localhost:8080/",
          "height": 343
        },
        "id": "C6M-4uk5-gjD",
        "outputId": "7c825b24-8272-43b8-e4e8-8df3d5738409"
      },
      "source": [
        "# 60 days rolling\r\n",
        "df['Close'].plot(figsize=(12,5))\r\n",
        "df.rolling(window=60).mean()['Close'].plot()"
      ],
      "execution_count": 48,
      "outputs": [
        {
          "output_type": "execute_result",
          "data": {
            "text/plain": [
              "<matplotlib.axes._subplots.AxesSubplot at 0x7f53ee8eb048>"
            ]
          },
          "metadata": {
            "tags": []
          },
          "execution_count": 48
        },
        {
          "output_type": "display_data",
          "data": {
            "image/png": "[encoded data removed]",
            "text/plain": [
              "<Figure size 864x360 with 1 Axes>"
            ]
          },
          "metadata": {
            "tags": [],
            "needs_background": "light"
          }
        }
      ]
    },
    {
      "cell_type": "code",
      "metadata": {
        "id": "AcMcTp6M-xYi"
      },
      "source": [
        "df['Close: 30 Day Mean'] = df['Close'].rolling(window=30).mean()"
      ],
      "execution_count": 49,
      "outputs": []
    },
    {
      "cell_type": "code",
      "metadata": {
        "colab": {
          "base_uri": "https://localhost:8080/",
          "height": 225
        },
        "id": "ThzNzfZk--jc",
        "outputId": "7e2fabda-256e-43e2-d730-e3110a76eed8"
      },
      "source": [
        "df.head()"
      ],
      "execution_count": 51,
      "outputs": [
        {
          "output_type": "execute_result",
          "data": {
            "text/html": [
              "<div>\n",
              "<style scoped>\n",
              "    .dataframe tbody tr th:only-of-type {\n",
              "        vertical-align: middle;\n",
              "    }\n",
              "\n",
              "    .dataframe tbody tr th {\n",
              "        vertical-align: top;\n",
              "    }\n",
              "\n",
              "    .dataframe thead th {\n",
              "        text-align: right;\n",
              "    }\n",
              "</style>\n",
              "<table border=\"1\" class=\"dataframe\">\n",
              "  <thead>\n",
              "    <tr style=\"text-align: right;\">\n",
              "      <th></th>\n",
              "      <th>Close</th>\n",
              "      <th>Volume</th>\n",
              "      <th>Close: 30 Day Mean</th>\n",
              "    </tr>\n",
              "    <tr>\n",
              "      <th>Date</th>\n",
              "      <th></th>\n",
              "      <th></th>\n",
              "      <th></th>\n",
              "    </tr>\n",
              "  </thead>\n",
              "  <tbody>\n",
              "    <tr>\n",
              "      <th>2015-01-02</th>\n",
              "      <td>38.0061</td>\n",
              "      <td>6906098</td>\n",
              "      <td>NaN</td>\n",
              "    </tr>\n",
              "    <tr>\n",
              "      <th>2015-01-05</th>\n",
              "      <td>37.2781</td>\n",
              "      <td>11623796</td>\n",
              "      <td>NaN</td>\n",
              "    </tr>\n",
              "    <tr>\n",
              "      <th>2015-01-06</th>\n",
              "      <td>36.9748</td>\n",
              "      <td>7664340</td>\n",
              "      <td>NaN</td>\n",
              "    </tr>\n",
              "    <tr>\n",
              "      <th>2015-01-07</th>\n",
              "      <td>37.8848</td>\n",
              "      <td>9732554</td>\n",
              "      <td>NaN</td>\n",
              "    </tr>\n",
              "    <tr>\n",
              "      <th>2015-01-08</th>\n",
              "      <td>38.4961</td>\n",
              "      <td>13170548</td>\n",
              "      <td>NaN</td>\n",
              "    </tr>\n",
              "  </tbody>\n",
              "</table>\n",
              "</div>"
            ],
            "text/plain": [
              "              Close    Volume  Close: 30 Day Mean\n",
              "Date                                             \n",
              "2015-01-02  38.0061   6906098                 NaN\n",
              "2015-01-05  37.2781  11623796                 NaN\n",
              "2015-01-06  36.9748   7664340                 NaN\n",
              "2015-01-07  37.8848   9732554                 NaN\n",
              "2015-01-08  38.4961  13170548                 NaN"
            ]
          },
          "metadata": {
            "tags": []
          },
          "execution_count": 51
        }
      ]
    },
    {
      "cell_type": "markdown",
      "metadata": {
        "id": "oKIql9_eCRMq"
      },
      "source": [
        "### Expanding\r\n",
        "\r\n",
        "Instead of calculating values for a rolling window of dates, what if you wanted to take into account everything from the start of the time series up to each point in time? For example, instead of considering the average over the last 7 days, we would consider all prior data in our expanding set of averages."
      ]
    },
    {
      "cell_type": "code",
      "metadata": {
        "colab": {
          "base_uri": "https://localhost:8080/",
          "height": 343
        },
        "id": "FX4pcgan-_so",
        "outputId": "0fc5ed44-2869-44d6-812f-96a1497faa45"
      },
      "source": [
        "df[['Close','Close: 30 Day Mean']].plot(figsize=(12,5))"
      ],
      "execution_count": 54,
      "outputs": [
        {
          "output_type": "execute_result",
          "data": {
            "text/plain": [
              "<matplotlib.axes._subplots.AxesSubplot at 0x7f53ee80deb8>"
            ]
          },
          "metadata": {
            "tags": []
          },
          "execution_count": 54
        },
        {
          "output_type": "display_data",
          "data": {
            "image/png": "[encoded data removed]",
            "text/plain": [
              "<Figure size 864x360 with 1 Axes>"
            ]
          },
          "metadata": {
            "tags": [],
            "needs_background": "light"
          }
        }
      ]
    },
    {
      "cell_type": "code",
      "metadata": {
        "colab": {
          "base_uri": "https://localhost:8080/",
          "height": 326
        },
        "id": "inKmgSw5_IXZ",
        "outputId": "0f7b3cb7-fb00-4430-f7cc-f898153bd77a"
      },
      "source": [
        "#Average of rolling previous, the last point means the average of all data\r\n",
        "#The wingdow keep expanding along with you for whatever up to time expanding up unitil avg. of total column \r\n",
        "df['Close'].expanding(min_periods=30).mean().plot(figsize=(12,5));"
      ],
      "execution_count": 68,
      "outputs": [
        {
          "output_type": "display_data",
          "data": {
            "image/png": "[encoded data removed]",
            "text/plain": [
              "<Figure size 864x360 with 1 Axes>"
            ]
          },
          "metadata": {
            "tags": [],
            "needs_background": "light"
          }
        }
      ]
    },
    {
      "cell_type": "code",
      "metadata": {
        "colab": {
          "base_uri": "https://localhost:8080/",
          "height": 326
        },
        "id": "DwVrW5FCDJby",
        "outputId": "ffefaeb9-e8c5-437e-9128-78928fea76c9"
      },
      "source": [
        "df['Close'].plot(figsize=(12,5)).autoscale(axis='x',tight=True)\n",
        "\n",
        "# Optional: specify a minimum number of periods to start from\n",
        "df['Close'].expanding(min_periods=30).mean().plot(figsize=(12,5));"
      ],
      "execution_count": 67,
      "outputs": [
        {
          "output_type": "display_data",
          "data": {
            "image/png": "[encoded data removed]",
            "text/plain": [
              "<Figure size 864x360 with 1 Axes>"
            ]
          },
          "metadata": {
            "tags": [],
            "needs_background": "light"
          }
        }
      ]
    },
    {
      "cell_type": "markdown",
      "metadata": {
        "id": "B_06ZQESC7Eb"
      },
      "source": [
        "That's it! It doesn't help much to visualize an expanding operation against the daily data, since all it really gives us is a picture of the \"stability\" or \"volatility\" of a stock. However, if you do want to see it, simply uncomment the first plot line above and rerun the cell.\r\n",
        "\r\n",
        "Next up, we'll take a deep dive into visualizing time series data!"
      ]
    },
    {
      "cell_type": "markdown",
      "metadata": {
        "id": "P27xXDAdAz4l"
      },
      "source": [
        "## Time Series Visualization with Pandas <a class=\"anchor\" id=\"TimeSeriesVisualization\"></a>"
      ]
    },
    {
      "cell_type": "code",
      "metadata": {
        "colab": {
          "base_uri": "https://localhost:8080/"
        },
        "id": "3TjV_ROA_lmK",
        "outputId": "a0f99bf2-51ab-42eb-c881-66794a455c29"
      },
      "source": [
        "df.index #This must be DatetimeIndex if it's not, see the next line."
      ],
      "execution_count": 58,
      "outputs": [
        {
          "output_type": "execute_result",
          "data": {
            "text/plain": [
              "DatetimeIndex(['2015-01-02', '2015-01-05', '2015-01-06', '2015-01-07',\n",
              "               '2015-01-08', '2015-01-09', '2015-01-12', '2015-01-13',\n",
              "               '2015-01-14', '2015-01-15',\n",
              "               ...\n",
              "               '2018-12-17', '2018-12-18', '2018-12-19', '2018-12-20',\n",
              "               '2018-12-21', '2018-12-24', '2018-12-26', '2018-12-27',\n",
              "               '2018-12-28', '2018-12-31'],\n",
              "              dtype='datetime64[ns]', name='Date', length=1006, freq=None)"
            ]
          },
          "metadata": {
            "tags": []
          },
          "execution_count": 58
        }
      ]
    },
    {
      "cell_type": "code",
      "metadata": {
        "id": "ncA3WL2NBC6f"
      },
      "source": [
        "#Convert the index to DatetimeIndex (if not)\r\n",
        "df.index = pd.to_datetime(df.index)"
      ],
      "execution_count": 60,
      "outputs": []
    },
    {
      "cell_type": "code",
      "metadata": {
        "colab": {
          "base_uri": "https://localhost:8080/",
          "height": 305
        },
        "id": "xfE9QutnBYzP",
        "outputId": "6fd9835d-f0e9-4391-ada1-810c5796de39"
      },
      "source": [
        "df.plot() #in differnt scale "
      ],
      "execution_count": 62,
      "outputs": [
        {
          "output_type": "execute_result",
          "data": {
            "text/plain": [
              "<matplotlib.axes._subplots.AxesSubplot at 0x7f53ee688f60>"
            ]
          },
          "metadata": {
            "tags": []
          },
          "execution_count": 62
        },
        {
          "output_type": "display_data",
          "data": {
            "image/png": "[encoded data removed]",
            "text/plain": [
              "<Figure size 432x288 with 1 Axes>"
            ]
          },
          "metadata": {
            "tags": [],
            "needs_background": "light"
          }
        }
      ]
    },
    {
      "cell_type": "code",
      "metadata": {
        "colab": {
          "base_uri": "https://localhost:8080/",
          "height": 294
        },
        "id": "q94ZkRFtBisw",
        "outputId": "f96f4510-1c62-4bcb-89b9-aeb2408568a1"
      },
      "source": [
        "df['Close'].plot()"
      ],
      "execution_count": 63,
      "outputs": [
        {
          "output_type": "execute_result",
          "data": {
            "text/plain": [
              "<matplotlib.axes._subplots.AxesSubplot at 0x7f53ee8654e0>"
            ]
          },
          "metadata": {
            "tags": []
          },
          "execution_count": 63
        },
        {
          "output_type": "display_data",
          "data": {
            "image/png": "[encoded data removed]",
            "text/plain": [
              "<Figure size 432x288 with 1 Axes>"
            ]
          },
          "metadata": {
            "tags": [],
            "needs_background": "light"
          }
        }
      ]
    },
    {
      "cell_type": "code",
      "metadata": {
        "colab": {
          "base_uri": "https://localhost:8080/",
          "height": 305
        },
        "id": "4Krv-Z1LBsIw",
        "outputId": "fa1dcd10-0de4-4fa9-8e1e-27a1c6738591"
      },
      "source": [
        "df['Volume'].plot()"
      ],
      "execution_count": 64,
      "outputs": [
        {
          "output_type": "execute_result",
          "data": {
            "text/plain": [
              "<matplotlib.axes._subplots.AxesSubplot at 0x7f53f6f04320>"
            ]
          },
          "metadata": {
            "tags": []
          },
          "execution_count": 64
        },
        {
          "output_type": "display_data",
          "data": {
            "image/png": "[encoded data removed]",
            "text/plain": [
              "<Figure size 432x288 with 1 Axes>"
            ]
          },
          "metadata": {
            "tags": [],
            "needs_background": "light"
          }
        }
      ]
    },
    {
      "cell_type": "markdown",
      "metadata": {
        "id": "GuTu8WEDD8QW"
      },
      "source": [
        "### Plot Formatting"
      ]
    },
    {
      "cell_type": "markdown",
      "metadata": {
        "id": "HZxFTbNYD8Xk"
      },
      "source": [
        "#### Title and axis labels\r\n",
        "Let's add a title and axis labels to our subplot.\r\n",
        "<div class=\"alert alert-info\"><strong>REMEMBER:</strong> <tt><font color=black>ax.autoscale(axis='both',tight=True)</font></tt> is unnecessary if axis limits have been passed into <tt>.plot()</tt>.<br>\r\n",
        "If we were to add it, autoscale would revert the axis limits to the full dataset.</div>"
      ]
    },
    {
      "cell_type": "markdown",
      "metadata": {
        "id": "c44P_XNjD4EB"
      },
      "source": [
        "<div class=\"alert alert-info\"><strong>NOTE:</strong> While we <em>can</em> pass a title into the pandas <tt>.plot()</tt> function, we can't pass x- and y-axis labels.<br>However, since <tt>.plot()</tt> returns a <tt>matplotlib.axes.AxesSubplot</tt> object, we can set the labels<br>on that object so long as we do it in the same jupyter cell. Setting an <tt>autoscale</tt> is done the same way.</div>"
      ]
    },
    {
      "cell_type": "code",
      "metadata": {
        "colab": {
          "base_uri": "https://localhost:8080/",
          "height": 391
        },
        "id": "pxFDgd38Bx13",
        "outputId": "b4fe07e6-5f77-4e2e-c644-1b4fe1748a24"
      },
      "source": [
        "title='Starbucks Closing Stock Prices'\r\n",
        "ylabel='Closing Price (USD)'\r\n",
        "xlabel='Closing Date'\r\n",
        "\r\n",
        "ax = df['Close'].plot(figsize=(12,6),title=title)\r\n",
        "ax.autoscale(axis='both',tight=True) #Auto scale the axises\r\n",
        "# ax.autoscale(axis='x',tight=True) #Auto scale the axises\r\n",
        "ax.set(xlabel=xlabel, ylabel=ylabel);"
      ],
      "execution_count": 70,
      "outputs": [
        {
          "output_type": "display_data",
          "data": {
            "image/png": "[encoded data removed]",
            "text/plain": [
              "<Figure size 864x432 with 1 Axes>"
            ]
          },
          "metadata": {
            "tags": [],
            "needs_background": "light"
          }
        }
      ]
    },
    {
      "cell_type": "code",
      "metadata": {
        "colab": {
          "base_uri": "https://localhost:8080/",
          "height": 391
        },
        "id": "IxghwJu3EJ0X",
        "outputId": "d8e642a1-a61e-4cb5-807f-c6c11baeb7fd"
      },
      "source": [
        "ax = df['Close'].plot(figsize=(12,6),title=title)\r\n",
        "# ax.autoscale(axis='both',tight=True) #Auto scale the axises\r\n",
        "ax.autoscale(axis='x',tight=True) #Auto scale the axises\r\n",
        "ax.set(xlabel=xlabel, ylabel=ylabel);"
      ],
      "execution_count": 71,
      "outputs": [
        {
          "output_type": "display_data",
          "data": {
            "image/png": "[encoded data removed]",
            "text/plain": [
              "<Figure size 864x432 with 1 Axes>"
            ]
          },
          "metadata": {
            "tags": [],
            "needs_background": "light"
          }
        }
      ]
    },
    {
      "cell_type": "markdown",
      "metadata": {
        "id": "d0ntW5a9E6OK"
      },
      "source": [
        "#### Axis Limits\r\n",
        "There are two ways we can set a specific span of time as an x-axis limit. We can plot a slice of the dataset, or we can pass x-limit values as an argument into <tt>df.plot()</tt>.\r\n",
        "\r\n",
        "The advantage of using a slice is that pandas automatically adjusts the y-limits accordingly.\r\n",
        "\r\n",
        "The advantage of passing in arguments is that pandas automatically tightens the x-axis. Plus, if we're also setting y-limits this can improve readability."
      ]
    },
    {
      "cell_type": "markdown",
      "metadata": {
        "id": "q2ZhGScCFCBz"
      },
      "source": [
        "**Choosing X Limits by Slice:**"
      ]
    },
    {
      "cell_type": "code",
      "metadata": {
        "colab": {
          "base_uri": "https://localhost:8080/",
          "height": 294
        },
        "id": "5xiz_g8bFHTf",
        "outputId": "5fddde74-84fc-4b1a-b3de-57d700ad26e9"
      },
      "source": [
        "#Crop of the data in some period\r\n",
        "df['Close']['2017-01-01':'2017-12-31'].plot(figsize=(12,4))"
      ],
      "execution_count": 74,
      "outputs": [
        {
          "output_type": "execute_result",
          "data": {
            "text/plain": [
              "<matplotlib.axes._subplots.AxesSubplot at 0x7f53ee6fa908>"
            ]
          },
          "metadata": {
            "tags": []
          },
          "execution_count": 74
        },
        {
          "output_type": "display_data",
          "data": {
            "image/png": "[encoded data removed]",
            "text/plain": [
              "<Figure size 864x288 with 1 Axes>"
            ]
          },
          "metadata": {
            "tags": [],
            "needs_background": "light"
          }
        }
      ]
    },
    {
      "cell_type": "markdown",
      "metadata": {
        "id": "XlJmZXX-GXKk"
      },
      "source": [
        "Choosing X and Y Limits by Slice:"
      ]
    },
    {
      "cell_type": "code",
      "metadata": {
        "colab": {
          "base_uri": "https://localhost:8080/",
          "height": 294
        },
        "id": "7xVW933zFjj8",
        "outputId": "93e4dca6-114e-4fcb-e4aa-40e6bdca87eb"
      },
      "source": [
        "#The same concept!\r\n",
        "df['Close'].plot(figsize=(12,4), xlim=['2017-01-01','2017-12-31'])"
      ],
      "execution_count": 77,
      "outputs": [
        {
          "output_type": "execute_result",
          "data": {
            "text/plain": [
              "<matplotlib.axes._subplots.AxesSubplot at 0x7f53edca9a90>"
            ]
          },
          "metadata": {
            "tags": []
          },
          "execution_count": 77
        },
        {
          "output_type": "display_data",
          "data": {
            "image/png": "[encoded data removed]",
            "text/plain": [
              "<Figure size 864x288 with 1 Axes>"
            ]
          },
          "metadata": {
            "tags": [],
            "needs_background": "light"
          }
        }
      ]
    },
    {
      "cell_type": "code",
      "metadata": {
        "colab": {
          "base_uri": "https://localhost:8080/",
          "height": 298
        },
        "id": "CA8kRtIpExR7",
        "outputId": "754010a7-ce26-4a80-a794-68b49a993b43"
      },
      "source": [
        "df['Close']['2017-01-01':'2017-12-31'].plot(figsize=(12,4), ylim=[0,70])"
      ],
      "execution_count": 78,
      "outputs": [
        {
          "output_type": "execute_result",
          "data": {
            "text/plain": [
              "<matplotlib.axes._subplots.AxesSubplot at 0x7f53edc08828>"
            ]
          },
          "metadata": {
            "tags": []
          },
          "execution_count": 78
        },
        {
          "output_type": "display_data",
          "data": {
            "image/png": "[encoded data removed]",
            "text/plain": [
              "<Figure size 864x288 with 1 Axes>"
            ]
          },
          "metadata": {
            "tags": [],
            "needs_background": "light"
          }
        }
      ]
    },
    {
      "cell_type": "markdown",
      "metadata": {
        "id": "obM358E8HtdA"
      },
      "source": [
        "#### Color and Style\r\n",
        "We can pass arguments into .plot() to change the linestyle and color. Refer to the Customizing Plots lecture from the previous section for more options."
      ]
    },
    {
      "cell_type": "code",
      "metadata": {
        "colab": {
          "base_uri": "https://localhost:8080/",
          "height": 298
        },
        "id": "YSG7ity8F_cm",
        "outputId": "d4c5bedb-9ffa-49fd-86f0-e0b5cd590f3e"
      },
      "source": [
        "df['Close']['2017-01-01':'2017-12-31'].plot(figsize=(12,4), ylim=[45,70],ls='--',c='green')"
      ],
      "execution_count": 80,
      "outputs": [
        {
          "output_type": "execute_result",
          "data": {
            "text/plain": [
              "<matplotlib.axes._subplots.AxesSubplot at 0x7f53edc557b8>"
            ]
          },
          "metadata": {
            "tags": []
          },
          "execution_count": 80
        },
        {
          "output_type": "display_data",
          "data": {
            "image/png": "[encoded data removed]",
            "text/plain": [
              "<Figure size 864x288 with 1 Axes>"
            ]
          },
          "metadata": {
            "tags": [],
            "needs_background": "light"
          }
        }
      ]
    },
    {
      "cell_type": "markdown",
      "metadata": {
        "id": "Jjo1iRKKGrnB"
      },
      "source": [
        "<div class=\"alert alert-info\"><strong>NOTE:</strong> It's worth noting that the limit values do <em>not</em> have to appear in the index. Pandas will plot the actual dates based on their location in time.<br><br>Also, another advantage of slicing over arguments is that it's easier to include the upper/lower bound as a limit.<br>That is, <tt><font color=black>df['column']['2017-01-01':].plot()</font></tt> is easier to type than <tt><font color=black>df['column'].plot(xlim=('2017-01-01',df.index.max()))</font></tt></div>"
      ]
    },
    {
      "cell_type": "markdown",
      "metadata": {
        "id": "TavlQxyFGu34"
      },
      "source": [
        "Now let's focus on the y-axis limits to get a better sense of the shape of the data.<br>First we'll find out what upper and lower limits to use."
      ]
    },
    {
      "cell_type": "markdown",
      "metadata": {
        "id": "MNhrJK74H4D8"
      },
      "source": [
        "### X Ticks\r\n",
        "In this section we'll look at how to change the format and appearance of dates along the x-axis. To do this, we'll borrow a tool from <tt>matplotlib</tt> called <tt>dates</tt>."
      ]
    },
    {
      "cell_type": "code",
      "metadata": {
        "id": "gqQcR0dLGC6a"
      },
      "source": [
        "from matplotlib import dates"
      ],
      "execution_count": 82,
      "outputs": []
    },
    {
      "cell_type": "markdown",
      "metadata": {
        "id": "BoUoYDZNIGKx"
      },
      "source": [
        "#### Set the spacing\r\n",
        "The x-axis values can be divided into major and minor axes. For now, we'll work only with the major axis and learn how to set the spacing with <tt>.set_major_locator()</tt>."
      ]
    },
    {
      "cell_type": "code",
      "metadata": {
        "colab": {
          "base_uri": "https://localhost:8080/",
          "height": 306
        },
        "id": "YK-Iq-6gIDlM",
        "outputId": "e111f328-86df-4b01-ef61-c439d0f53f02"
      },
      "source": [
        "df['Close'].plot(xlim=['2017-01-01','2017-03-01'],ylim=[50,60])"
      ],
      "execution_count": 86,
      "outputs": [
        {
          "output_type": "execute_result",
          "data": {
            "text/plain": [
              "<matplotlib.axes._subplots.AxesSubplot at 0x7f53eda50390>"
            ]
          },
          "metadata": {
            "tags": []
          },
          "execution_count": 86
        },
        {
          "output_type": "display_data",
          "data": {
            "image/png": "[encoded data removed]",
            "text/plain": [
              "<Figure size 432x288 with 1 Axes>"
            ]
          },
          "metadata": {
            "tags": [],
            "needs_background": "light"
          }
        }
      ]
    },
    {
      "cell_type": "code",
      "metadata": {
        "colab": {
          "base_uri": "https://localhost:8080/",
          "height": 355
        },
        "id": "9AiG3j14IWU1",
        "outputId": "d2c90dbe-3e15-44fe-941d-2fcc8154b9c8"
      },
      "source": [
        "#Changing wilder\r\n",
        "df['Close'].plot(xlim=['2017-01-01','2017-03-01'],ylim=[50,60],figsize=(12,5))"
      ],
      "execution_count": 87,
      "outputs": [
        {
          "output_type": "execute_result",
          "data": {
            "text/plain": [
              "<matplotlib.axes._subplots.AxesSubplot at 0x7f53edcb7898>"
            ]
          },
          "metadata": {
            "tags": []
          },
          "execution_count": 87
        },
        {
          "output_type": "display_data",
          "data": {
            "image/png": "[encoded data removed]",
            "text/plain": [
              "<Figure size 864x360 with 1 Axes>"
            ]
          },
          "metadata": {
            "tags": [],
            "needs_background": "light"
          }
        }
      ]
    },
    {
      "cell_type": "markdown",
      "metadata": {
        "id": "iQxugemMJDLd"
      },
      "source": [
        "Notice that dates are spaced one week apart. The dates themselves correspond with <tt>byweekday=0</tt>, or Mondays.<br>\r\n",
        "For a full list of locator options available from <tt>matplotlib.dates</tt> visit <a href='https://matplotlib.org/api/dates_api.html#date-tickers'>https://matplotlib.org/api/dates_api.html#date-tickers</a>"
      ]
    },
    {
      "cell_type": "code",
      "metadata": {
        "colab": {
          "base_uri": "https://localhost:8080/",
          "height": 338
        },
        "id": "HvEkboI3Iu-I",
        "outputId": "c820d1c3-1a1d-4cc5-acc3-19aa77d91176"
      },
      "source": [
        "#Seting the new space of the x-axis (see more locating technique on the link upper!)\r\n",
        "ax = df['Close'].plot(xlim=['2017-01-01','2017-03-01'],ylim=[50,60],figsize=(12,5))\r\n",
        "ax.xaxis.set_major_locator(dates.WeekdayLocator(byweekday=0))#xtick on x-axis is arranged nicer \r\n"
      ],
      "execution_count": 91,
      "outputs": [
        {
          "output_type": "display_data",
          "data": {
            "image/png": "[encoded data removed]",
            "text/plain": [
              "<Figure size 864x360 with 1 Axes>"
            ]
          },
          "metadata": {
            "tags": [],
            "needs_background": "light"
          }
        }
      ]
    },
    {
      "cell_type": "markdown",
      "metadata": {
        "id": "GxdlLf9PK8Up"
      },
      "source": [
        "#### Date Formatting (****)\r\n",
        "Formatting follows the Python datetime <strong><a href='http://strftime.org/'>strftime</a></strong> codes.<br>\r\n",
        "The following examples are based on <tt>datetime.datetime(2001, 2, 3, 16, 5, 6)</tt>:\r\n",
        "<br><br>\r\n",
        "\r\n",
        "<table style=\"display: inline-block\">  \r\n",
        "<tr><th>CODE</th><th>MEANING</th><th>EXAMPLE</th><tr>\r\n",
        "<tr><td>%Y</td><td>Year with century as a decimal number.</td><td>2001</td></tr>\r\n",
        "<tr><td>%y</td><td>Year without century as a zero-padded decimal number.</td><td>01</td></tr>\r\n",
        "<tr><td>%m</td><td>Month as a zero-padded decimal number.</td><td>02</td></tr>\r\n",
        "<tr><td>%B</td><td>Month as locale’s full name.</td><td>February</td></tr>\r\n",
        "<tr><td>%b</td><td>Month as locale’s abbreviated name.</td><td>Feb</td></tr>\r\n",
        "<tr><td>%d</td><td>Day of the month as a zero-padded decimal number.</td><td>03</td></tr>  \r\n",
        "<tr><td>%A</td><td>Weekday as locale’s full name.</td><td>Saturday</td></tr>\r\n",
        "<tr><td>%a</td><td>Weekday as locale’s abbreviated name.</td><td>Sat</td></tr>\r\n",
        "<tr><td>%H</td><td>Hour (24-hour clock) as a zero-padded decimal number.</td><td>16</td></tr>\r\n",
        "<tr><td>%I</td><td>Hour (12-hour clock) as a zero-padded decimal number.</td><td>04</td></tr>\r\n",
        "<tr><td>%p</td><td>Locale’s equivalent of either AM or PM.</td><td>PM</td></tr>\r\n",
        "<tr><td>%M</td><td>Minute as a zero-padded decimal number.</td><td>05</td></tr>\r\n",
        "<tr><td>%S</td><td>Second as a zero-padded decimal number.</td><td>06</td></tr>\r\n",
        "</table>\r\n",
        "<table style=\"display: inline-block\">\r\n",
        "<tr><th>CODE</th><th>MEANING</th><th>EXAMPLE</th><tr>\r\n",
        "<tr><td>%#m</td><td>Month as a decimal number. (Windows)</td><td>2</td></tr>\r\n",
        "<tr><td>%-m</td><td>Month as a decimal number. (Mac/Linux)</td><td>2</td></tr>\r\n",
        "<tr><td>%#x</td><td>Long date</td><td>Saturday, February 03, 2001</td></tr>\r\n",
        "<tr><td>%#c</td><td>Long date and time</td><td>Saturday, February 03, 2001 16:05:06</td></tr>\r\n",
        "</table>  \r\n",
        "    "
      ]
    },
    {
      "cell_type": "code",
      "metadata": {
        "colab": {
          "base_uri": "https://localhost:8080/",
          "height": 302
        },
        "id": "0Qzm8_l0JOvr",
        "outputId": "a8566da7-73d3-4474-f0ce-6efeeab6817f"
      },
      "source": [
        "ax = df['Close'].plot(xlim=['2017-01-01','2017-03-01'],ylim=[50,60],figsize=(12,5))\r\n",
        "ax.set(xlabel='')\r\n",
        "ax.xaxis.set_major_locator(dates.WeekdayLocator(byweekday=0))\r\n",
        "ax.xaxis.set_major_formatter(dates.DateFormatter('%d'))\r\n",
        "\r\n"
      ],
      "execution_count": 101,
      "outputs": [
        {
          "output_type": "display_data",
          "data": {
            "image/png": "[encoded data removed]",
            "text/plain": [
              "<Figure size 864x360 with 1 Axes>"
            ]
          },
          "metadata": {
            "tags": [],
            "needs_background": "light"
          }
        }
      ]
    },
    {
      "cell_type": "markdown",
      "metadata": {
        "id": "6eplCFQxM5AQ"
      },
      "source": [
        "#### Major vs. Minor Axis Values\r\n",
        "All of the tick marks we've used so far have belonged to the major axis. We can assign another level called the <em>minor axis</em>, perhaps to separate month names from days of the month."
      ]
    },
    {
      "cell_type": "code",
      "metadata": {
        "colab": {
          "base_uri": "https://localhost:8080/",
          "height": 318
        },
        "id": "w8QiMFUNLKJg",
        "outputId": "df602100-af27-4f40-bff9-7bcf5dcf4461"
      },
      "source": [
        "ax = df['Close'].plot(xlim=['2017-01-01','2017-03-01'],ylim=[50,60],figsize=(12,5))\r\n",
        "ax.set(xlabel='')\r\n",
        "ax.xaxis.set_major_locator(dates.WeekdayLocator(byweekday=0))\r\n",
        "ax.xaxis.set_major_formatter(dates.DateFormatter('%d'))\r\n",
        "\r\n",
        "ax.xaxis.set_minor_locator(dates.MonthLocator())\r\n",
        "ax.xaxis.set_minor_formatter(dates.DateFormatter('\\n\\n%b')) #\\n is newline\r\n"
      ],
      "execution_count": 102,
      "outputs": [
        {
          "output_type": "display_data",
          "data": {
            "image/png": "[encoded data removed]",
            "text/plain": [
              "<Figure size 864x360 with 1 Axes>"
            ]
          },
          "metadata": {
            "tags": [],
            "needs_background": "light"
          }
        }
      ]
    },
    {
      "cell_type": "markdown",
      "metadata": {
        "id": "27MuICq9NCLj"
      },
      "source": [
        "<font color=green><strong>NOTE: </strong>we passed a rotation argument <font color=black><strong>rot=0</strong></font> into <tt><font color=black>df.plot()</font></tt> so that the major axis values appear horizontal, not slanted."
      ]
    },
    {
      "cell_type": "markdown",
      "metadata": {
        "id": "KKzyKo7LM_Dy"
      },
      "source": [
        "#### Adding Gridlines\r\n",
        "We can add x and y axis gridlines that extend into the plot from each major tick mark."
      ]
    },
    {
      "cell_type": "code",
      "metadata": {
        "colab": {
          "base_uri": "https://localhost:8080/",
          "height": 318
        },
        "id": "ZzV0KL0fM-IG",
        "outputId": "32dccbcd-b803-44cd-fa7a-3bc0b65b5237"
      },
      "source": [
        "ax = df['Close'].plot(xlim=['2017-01-01','2017-03-01'],ylim=[50,60],figsize=(12,5))\r\n",
        "ax.set(xlabel='')\r\n",
        "ax.xaxis.set_major_locator(dates.WeekdayLocator(byweekday=0))\r\n",
        "ax.xaxis.set_major_formatter(dates.DateFormatter('%d'))\r\n",
        "\r\n",
        "ax.xaxis.set_minor_locator(dates.MonthLocator())\r\n",
        "ax.xaxis.set_minor_formatter(dates.DateFormatter('\\n\\n%b')) #\\n is newline\r\n",
        "\r\n",
        "ax.yaxis.grid(True)\r\n",
        "ax.xaxis.grid(True)"
      ],
      "execution_count": 103,
      "outputs": [
        {
          "output_type": "display_data",
          "data": {
            "image/png": "[encoded data removed]",
            "text/plain": [
              "<Figure size 864x360 with 1 Axes>"
            ]
          },
          "metadata": {
            "tags": [],
            "needs_background": "light"
          }
        }
      ]
    },
    {
      "cell_type": "markdown",
      "metadata": {
        "id": "ZQ5ENsMBNPgp"
      },
      "source": [
        "\r\n",
        "END\r\n",
        "\r\n",
        "\r\n",
        "\r\n",
        "\r\n",
        "---\r\n",
        "\r\n"
      ]
    },
    {
      "cell_type": "markdown",
      "metadata": {
        "id": "FK2q54uKPU0M"
      },
      "source": [
        "## Time Series Project Exercise <a class=\"anchor\" id=\"TimeSeriesProjectExercise\"></a>"
      ]
    },
    {
      "cell_type": "markdown",
      "metadata": {
        "id": "ghRZQKvTP2nf"
      },
      "source": [
        "## Pandas Time Series Exercise Set #1\r\n",
        "\r\n",
        "For this set of exercises we'll use a dataset containing monthly milk production values in pounds per cow from January 1962 to December 1975.\r\n",
        "\r\n",
        "<div class=\"alert alert-danger\" style=\"margin: 10px\"><strong>IMPORTANT NOTE!</strong> Make sure you don't run the cells directly above the example output shown, <br>otherwise you will end up writing over the example output!</div>"
      ]
    },
    {
      "cell_type": "code",
      "metadata": {
        "colab": {
          "base_uri": "https://localhost:8080/"
        },
        "id": "zBbaqhwzPua6",
        "outputId": "e389c83a-65c7-4e2a-ea44-62a4c796cd6c"
      },
      "source": [
        "# RUN THIS CELL\r\n",
        "import pandas as pd\r\n",
        "%matplotlib inline\r\n",
        "\r\n",
        "# https://drive.google.com/file/d/1JD2B1b8sYCeRw3HNg8ZP0op4lAHpeFxm/view?usp=sharing\r\n",
        "PATH_googleDrive_id = '1JD2B1b8sYCeRw3HNg8ZP0op4lAHpeFxm'\r\n",
        "PATH_googleDrive = 'monthly_milk_production.csv'\r\n",
        "Initial_googleDrive( PATH_googleDrive, PATH_googleDrive_id )\r\n",
        "PATH = PATH_googleDrive\r\n",
        "df = pd.read_csv(PATH, encoding='utf8')\r\n",
        "title = \"Monthly milk production: pounds per cow. Jan '62 - Dec '75\"\r\n",
        "\r\n",
        "print(len(df))\r\n",
        "print(df.head(13))"
      ],
      "execution_count": 271,
      "outputs": [
        {
          "output_type": "stream",
          "text": [
            "168\n",
            "       Date  Production\n",
            "0   1962-01         589\n",
            "1   1962-02         561\n",
            "2   1962-03         640\n",
            "3   1962-04         656\n",
            "4   1962-05         727\n",
            "5   1962-06         697\n",
            "6   1962-07         640\n",
            "7   1962-08         599\n",
            "8   1962-09         568\n",
            "9   1962-10         577\n",
            "10  1962-11         553\n",
            "11  1962-12         582\n",
            "12  1963-01         600\n"
          ],
          "name": "stdout"
        }
      ]
    },
    {
      "cell_type": "code",
      "metadata": {
        "colab": {
          "base_uri": "https://localhost:8080/",
          "height": 282
        },
        "id": "O_Tqg4RfeoqD",
        "outputId": "60a78fb6-6ba9-44c6-b489-08b36e236a13"
      },
      "source": [
        "df.plot()"
      ],
      "execution_count": 272,
      "outputs": [
        {
          "output_type": "execute_result",
          "data": {
            "text/plain": [
              "<matplotlib.axes._subplots.AxesSubplot at 0x7f53ed5d6278>"
            ]
          },
          "metadata": {
            "tags": []
          },
          "execution_count": 272
        },
        {
          "output_type": "display_data",
          "data": {
            "image/png": "[encoded data removed]",
            "text/plain": [
              "<Figure size 432x288 with 1 Axes>"
            ]
          },
          "metadata": {
            "tags": [],
            "needs_background": "light"
          }
        }
      ]
    },
    {
      "cell_type": "markdown",
      "metadata": {
        "id": "g2hCAzyNQeKe"
      },
      "source": [
        "So <tt>df</tt> has 168 records and 2 columns."
      ]
    },
    {
      "cell_type": "markdown",
      "metadata": {
        "id": "aC9jg1mQQhIE"
      },
      "source": [
        "#### 1. What is the current data type of the Date column?\r\n",
        "HINT: We show how to list column dtypes in the first set of DataFrame lectures."
      ]
    },
    {
      "cell_type": "code",
      "metadata": {
        "colab": {
          "base_uri": "https://localhost:8080/"
        },
        "id": "9Oo0VBddQRN2",
        "outputId": "27aa5f74-fc8a-4b2d-bba5-0fe028d12041"
      },
      "source": [
        "# CODE HERE\r\n",
        "df.info() \r\n",
        "#or"
      ],
      "execution_count": 225,
      "outputs": [
        {
          "output_type": "stream",
          "text": [
            "<class 'pandas.core.frame.DataFrame'>\n",
            "RangeIndex: 168 entries, 0 to 167\n",
            "Data columns (total 2 columns):\n",
            " #   Column      Non-Null Count  Dtype \n",
            "---  ------      --------------  ----- \n",
            " 0   Date        168 non-null    object\n",
            " 1   Production  168 non-null    int64 \n",
            "dtypes: int64(1), object(1)\n",
            "memory usage: 2.8+ KB\n"
          ],
          "name": "stdout"
        }
      ]
    },
    {
      "cell_type": "code",
      "metadata": {
        "colab": {
          "base_uri": "https://localhost:8080/"
        },
        "id": "a88cJDiFTB7U",
        "outputId": "3bec4467-d3bb-40d6-b2f0-46bbba83a1e9"
      },
      "source": [
        "df.dtypes"
      ],
      "execution_count": 226,
      "outputs": [
        {
          "output_type": "execute_result",
          "data": {
            "text/plain": [
              "Date          object\n",
              "Production     int64\n",
              "dtype: object"
            ]
          },
          "metadata": {
            "tags": []
          },
          "execution_count": 226
        }
      ]
    },
    {
      "cell_type": "code",
      "metadata": {
        "colab": {
          "base_uri": "https://localhost:8080/"
        },
        "id": "rchgdKPAQjEr",
        "outputId": "ec98d9c7-408e-479e-c784-007198f21b32"
      },
      "source": [
        "# DON'T WRITE HERE"
      ],
      "execution_count": 141,
      "outputs": [
        {
          "output_type": "execute_result",
          "data": {
            "text/plain": [
              "Date          object\n",
              "Production     int64\n",
              "dtype: object"
            ]
          },
          "metadata": {
            "tags": []
          },
          "execution_count": 141
        }
      ]
    },
    {
      "cell_type": "markdown",
      "metadata": {
        "id": "0BiXB699T4eJ"
      },
      "source": [
        "#### 2. Change the Date column to a datetime format"
      ]
    },
    {
      "cell_type": "code",
      "metadata": {
        "colab": {
          "base_uri": "https://localhost:8080/"
        },
        "id": "a8edbBrjTGTI",
        "outputId": "909acebb-b056-4bca-bab1-d73e600bbe90"
      },
      "source": [
        "# CODE HERE\r\n",
        "df['Date']=pd.to_datetime(df['Date'])\r\n",
        "df.dtypes\r\n"
      ],
      "execution_count": 273,
      "outputs": [
        {
          "output_type": "execute_result",
          "data": {
            "text/plain": [
              "Date          datetime64[ns]\n",
              "Production             int64\n",
              "dtype: object"
            ]
          },
          "metadata": {
            "tags": []
          },
          "execution_count": 273
        }
      ]
    },
    {
      "cell_type": "code",
      "metadata": {
        "scrolled": true,
        "id": "Kjk4RcDUgvmd",
        "colab": {
          "base_uri": "https://localhost:8080/"
        },
        "outputId": "b2a425ad-1512-41cc-eac9-b3566e52aedb"
      },
      "source": [
        "# DON'T WRITE HERE"
      ],
      "execution_count": 246,
      "outputs": [
        {
          "output_type": "execute_result",
          "data": {
            "text/plain": [
              "Date          datetime64[ns]\n",
              "Production             int64\n",
              "dtype: object"
            ]
          },
          "metadata": {
            "tags": []
          },
          "execution_count": 246
        }
      ]
    },
    {
      "cell_type": "markdown",
      "metadata": {
        "id": "kDqS0-_fZbNp"
      },
      "source": [
        "#### 3. Set the Date column to be the new index"
      ]
    },
    {
      "cell_type": "code",
      "metadata": {
        "colab": {
          "base_uri": "https://localhost:8080/",
          "height": 225
        },
        "id": "A14oHbA1boq5",
        "outputId": "b24800dc-5acf-4ee6-c8d2-94f83378b06f"
      },
      "source": [
        "df.set_index('Date',inplace=True)\r\n",
        "df.head()"
      ],
      "execution_count": 274,
      "outputs": [
        {
          "output_type": "execute_result",
          "data": {
            "text/html": [
              "<div>\n",
              "<style scoped>\n",
              "    .dataframe tbody tr th:only-of-type {\n",
              "        vertical-align: middle;\n",
              "    }\n",
              "\n",
              "    .dataframe tbody tr th {\n",
              "        vertical-align: top;\n",
              "    }\n",
              "\n",
              "    .dataframe thead th {\n",
              "        text-align: right;\n",
              "    }\n",
              "</style>\n",
              "<table border=\"1\" class=\"dataframe\">\n",
              "  <thead>\n",
              "    <tr style=\"text-align: right;\">\n",
              "      <th></th>\n",
              "      <th>Production</th>\n",
              "    </tr>\n",
              "    <tr>\n",
              "      <th>Date</th>\n",
              "      <th></th>\n",
              "    </tr>\n",
              "  </thead>\n",
              "  <tbody>\n",
              "    <tr>\n",
              "      <th>1962-01-01</th>\n",
              "      <td>589</td>\n",
              "    </tr>\n",
              "    <tr>\n",
              "      <th>1962-02-01</th>\n",
              "      <td>561</td>\n",
              "    </tr>\n",
              "    <tr>\n",
              "      <th>1962-03-01</th>\n",
              "      <td>640</td>\n",
              "    </tr>\n",
              "    <tr>\n",
              "      <th>1962-04-01</th>\n",
              "      <td>656</td>\n",
              "    </tr>\n",
              "    <tr>\n",
              "      <th>1962-05-01</th>\n",
              "      <td>727</td>\n",
              "    </tr>\n",
              "  </tbody>\n",
              "</table>\n",
              "</div>"
            ],
            "text/plain": [
              "            Production\n",
              "Date                  \n",
              "1962-01-01         589\n",
              "1962-02-01         561\n",
              "1962-03-01         640\n",
              "1962-04-01         656\n",
              "1962-05-01         727"
            ]
          },
          "metadata": {
            "tags": []
          },
          "execution_count": 274
        }
      ]
    },
    {
      "cell_type": "code",
      "metadata": {
        "colab": {
          "base_uri": "https://localhost:8080/",
          "height": 225
        },
        "id": "uRQTZkaNZkmb",
        "outputId": "0d6f1bde-6a4c-40aa-c4a2-62c54db1417d"
      },
      "source": [
        "# DON'T WRITE HERE"
      ],
      "execution_count": 275,
      "outputs": [
        {
          "output_type": "execute_result",
          "data": {
            "text/html": [
              "<div>\n",
              "<style scoped>\n",
              "    .dataframe tbody tr th:only-of-type {\n",
              "        vertical-align: middle;\n",
              "    }\n",
              "\n",
              "    .dataframe tbody tr th {\n",
              "        vertical-align: top;\n",
              "    }\n",
              "\n",
              "    .dataframe thead th {\n",
              "        text-align: right;\n",
              "    }\n",
              "</style>\n",
              "<table border=\"1\" class=\"dataframe\">\n",
              "  <thead>\n",
              "    <tr style=\"text-align: right;\">\n",
              "      <th></th>\n",
              "      <th>Production</th>\n",
              "    </tr>\n",
              "    <tr>\n",
              "      <th>Date</th>\n",
              "      <th></th>\n",
              "    </tr>\n",
              "  </thead>\n",
              "  <tbody>\n",
              "    <tr>\n",
              "      <th>1962-01-01</th>\n",
              "      <td>589</td>\n",
              "    </tr>\n",
              "    <tr>\n",
              "      <th>1962-02-01</th>\n",
              "      <td>561</td>\n",
              "    </tr>\n",
              "    <tr>\n",
              "      <th>1962-03-01</th>\n",
              "      <td>640</td>\n",
              "    </tr>\n",
              "    <tr>\n",
              "      <th>1962-04-01</th>\n",
              "      <td>656</td>\n",
              "    </tr>\n",
              "    <tr>\n",
              "      <th>1962-05-01</th>\n",
              "      <td>727</td>\n",
              "    </tr>\n",
              "  </tbody>\n",
              "</table>\n",
              "</div>"
            ],
            "text/plain": [
              "            Production\n",
              "Date                  \n",
              "1962-01-01         589\n",
              "1962-02-01         561\n",
              "1962-03-01         640\n",
              "1962-04-01         656\n",
              "1962-05-01         727"
            ]
          },
          "metadata": {
            "tags": []
          },
          "execution_count": 275
        }
      ]
    },
    {
      "cell_type": "markdown",
      "metadata": {
        "id": "fHMISEhyjqmj"
      },
      "source": [
        "#### 4. Plot the DataFrame with a simple line plot. What do you notice about the plot?"
      ]
    },
    {
      "cell_type": "code",
      "metadata": {
        "colab": {
          "base_uri": "https://localhost:8080/",
          "height": 296
        },
        "id": "jvfDK7tyjt_E",
        "outputId": "08087706-0f28-4166-dd5d-ed06b1c51796"
      },
      "source": [
        "df.plot()"
      ],
      "execution_count": 278,
      "outputs": [
        {
          "output_type": "execute_result",
          "data": {
            "text/plain": [
              "<matplotlib.axes._subplots.AxesSubplot at 0x7f53ed70c5f8>"
            ]
          },
          "metadata": {
            "tags": []
          },
          "execution_count": 278
        },
        {
          "output_type": "display_data",
          "data": {
            "image/png": "[encoded data removed]",
            "text/plain": [
              "<Figure size 432x288 with 1 Axes>"
            ]
          },
          "metadata": {
            "tags": [],
            "needs_background": "light"
          }
        }
      ]
    },
    {
      "cell_type": "code",
      "metadata": {
        "colab": {
          "base_uri": "https://localhost:8080/",
          "height": 296
        },
        "id": "-jR8TYZ5jkYA",
        "outputId": "088cd3bc-11b1-4d2f-ebd7-360de54d7140"
      },
      "source": [
        "# DON'T WRITE HERE"
      ],
      "execution_count": 279,
      "outputs": [
        {
          "output_type": "execute_result",
          "data": {
            "text/plain": [
              "<matplotlib.axes._subplots.AxesSubplot at 0x7f53ed75fa90>"
            ]
          },
          "metadata": {
            "tags": []
          },
          "execution_count": 279
        },
        {
          "output_type": "display_data",
          "data": {
            "image/png": "[encoded data removed]",
            "text/plain": [
              "<Figure size 432x288 with 1 Axes>"
            ]
          },
          "metadata": {
            "tags": [],
            "needs_background": "light"
          }
        }
      ]
    },
    {
      "cell_type": "markdown",
      "metadata": {
        "id": "Zu21__CDkDaf"
      },
      "source": [
        "#### 5. Add a column called 'Month' that takes the month value from the index\r\n",
        "HINT: You have to call <tt>df.index</tt> as <tt>df['Date']</tt> won't work.\r\n",
        "\r\n",
        "<strong>BONUS: See if you can obtain the <em>name</em> of the month instead of a number!</strong>"
      ]
    },
    {
      "cell_type": "code",
      "metadata": {
        "id": "tsCCgG-LkEOJ"
      },
      "source": [
        "df['Month'] = df.index.month"
      ],
      "execution_count": 307,
      "outputs": []
    },
    {
      "cell_type": "code",
      "metadata": {
        "colab": {
          "base_uri": "https://localhost:8080/",
          "height": 225
        },
        "id": "o5puMKCakXsr",
        "outputId": "b78d62e2-fb8b-4597-879a-cb3bbc14ca87"
      },
      "source": [
        "df.head()"
      ],
      "execution_count": 308,
      "outputs": [
        {
          "output_type": "execute_result",
          "data": {
            "text/html": [
              "<div>\n",
              "<style scoped>\n",
              "    .dataframe tbody tr th:only-of-type {\n",
              "        vertical-align: middle;\n",
              "    }\n",
              "\n",
              "    .dataframe tbody tr th {\n",
              "        vertical-align: top;\n",
              "    }\n",
              "\n",
              "    .dataframe thead th {\n",
              "        text-align: right;\n",
              "    }\n",
              "</style>\n",
              "<table border=\"1\" class=\"dataframe\">\n",
              "  <thead>\n",
              "    <tr style=\"text-align: right;\">\n",
              "      <th></th>\n",
              "      <th>Production</th>\n",
              "      <th>Month</th>\n",
              "    </tr>\n",
              "    <tr>\n",
              "      <th>Date</th>\n",
              "      <th></th>\n",
              "      <th></th>\n",
              "    </tr>\n",
              "  </thead>\n",
              "  <tbody>\n",
              "    <tr>\n",
              "      <th>1962-01-01</th>\n",
              "      <td>589</td>\n",
              "      <td>1</td>\n",
              "    </tr>\n",
              "    <tr>\n",
              "      <th>1962-02-01</th>\n",
              "      <td>561</td>\n",
              "      <td>2</td>\n",
              "    </tr>\n",
              "    <tr>\n",
              "      <th>1962-03-01</th>\n",
              "      <td>640</td>\n",
              "      <td>3</td>\n",
              "    </tr>\n",
              "    <tr>\n",
              "      <th>1962-04-01</th>\n",
              "      <td>656</td>\n",
              "      <td>4</td>\n",
              "    </tr>\n",
              "    <tr>\n",
              "      <th>1962-05-01</th>\n",
              "      <td>727</td>\n",
              "      <td>5</td>\n",
              "    </tr>\n",
              "  </tbody>\n",
              "</table>\n",
              "</div>"
            ],
            "text/plain": [
              "            Production  Month\n",
              "Date                         \n",
              "1962-01-01         589      1\n",
              "1962-02-01         561      2\n",
              "1962-03-01         640      3\n",
              "1962-04-01         656      4\n",
              "1962-05-01         727      5"
            ]
          },
          "metadata": {
            "tags": []
          },
          "execution_count": 308
        }
      ]
    },
    {
      "cell_type": "code",
      "metadata": {
        "colab": {
          "base_uri": "https://localhost:8080/",
          "height": 225
        },
        "id": "0wuJb2EgogKX",
        "outputId": "b5454150-17cb-490a-e453-8885cc435b9f"
      },
      "source": [
        "# DON'T WRITE HERE"
      ],
      "execution_count": 309,
      "outputs": [
        {
          "output_type": "execute_result",
          "data": {
            "text/html": [
              "<div>\n",
              "<style scoped>\n",
              "    .dataframe tbody tr th:only-of-type {\n",
              "        vertical-align: middle;\n",
              "    }\n",
              "\n",
              "    .dataframe tbody tr th {\n",
              "        vertical-align: top;\n",
              "    }\n",
              "\n",
              "    .dataframe thead th {\n",
              "        text-align: right;\n",
              "    }\n",
              "</style>\n",
              "<table border=\"1\" class=\"dataframe\">\n",
              "  <thead>\n",
              "    <tr style=\"text-align: right;\">\n",
              "      <th></th>\n",
              "      <th>Production</th>\n",
              "      <th>Month</th>\n",
              "    </tr>\n",
              "    <tr>\n",
              "      <th>Date</th>\n",
              "      <th></th>\n",
              "      <th></th>\n",
              "    </tr>\n",
              "  </thead>\n",
              "  <tbody>\n",
              "    <tr>\n",
              "      <th>1962-01-01</th>\n",
              "      <td>589</td>\n",
              "      <td>1</td>\n",
              "    </tr>\n",
              "    <tr>\n",
              "      <th>1962-02-01</th>\n",
              "      <td>561</td>\n",
              "      <td>2</td>\n",
              "    </tr>\n",
              "    <tr>\n",
              "      <th>1962-03-01</th>\n",
              "      <td>640</td>\n",
              "      <td>3</td>\n",
              "    </tr>\n",
              "    <tr>\n",
              "      <th>1962-04-01</th>\n",
              "      <td>656</td>\n",
              "      <td>4</td>\n",
              "    </tr>\n",
              "    <tr>\n",
              "      <th>1962-05-01</th>\n",
              "      <td>727</td>\n",
              "      <td>5</td>\n",
              "    </tr>\n",
              "  </tbody>\n",
              "</table>\n",
              "</div>"
            ],
            "text/plain": [
              "            Production  Month\n",
              "Date                         \n",
              "1962-01-01         589      1\n",
              "1962-02-01         561      2\n",
              "1962-03-01         640      3\n",
              "1962-04-01         656      4\n",
              "1962-05-01         727      5"
            ]
          },
          "metadata": {
            "tags": []
          },
          "execution_count": 309
        }
      ]
    },
    {
      "cell_type": "code",
      "metadata": {
        "id": "RTFQhkg-gvmg",
        "colab": {
          "base_uri": "https://localhost:8080/",
          "height": 225
        },
        "outputId": "d4fc8d20-383a-4df0-d4d4-a6f93cd23e88"
      },
      "source": [
        "# BONUS SOLUTION:\n",
        "df['Month'] = df.index.strftime('%B')\n",
        "df.head()"
      ],
      "execution_count": 311,
      "outputs": [
        {
          "output_type": "execute_result",
          "data": {
            "text/html": [
              "<div>\n",
              "<style scoped>\n",
              "    .dataframe tbody tr th:only-of-type {\n",
              "        vertical-align: middle;\n",
              "    }\n",
              "\n",
              "    .dataframe tbody tr th {\n",
              "        vertical-align: top;\n",
              "    }\n",
              "\n",
              "    .dataframe thead th {\n",
              "        text-align: right;\n",
              "    }\n",
              "</style>\n",
              "<table border=\"1\" class=\"dataframe\">\n",
              "  <thead>\n",
              "    <tr style=\"text-align: right;\">\n",
              "      <th></th>\n",
              "      <th>Production</th>\n",
              "      <th>Month</th>\n",
              "    </tr>\n",
              "    <tr>\n",
              "      <th>Date</th>\n",
              "      <th></th>\n",
              "      <th></th>\n",
              "    </tr>\n",
              "  </thead>\n",
              "  <tbody>\n",
              "    <tr>\n",
              "      <th>1962-01-01</th>\n",
              "      <td>589</td>\n",
              "      <td>January</td>\n",
              "    </tr>\n",
              "    <tr>\n",
              "      <th>1962-02-01</th>\n",
              "      <td>561</td>\n",
              "      <td>February</td>\n",
              "    </tr>\n",
              "    <tr>\n",
              "      <th>1962-03-01</th>\n",
              "      <td>640</td>\n",
              "      <td>March</td>\n",
              "    </tr>\n",
              "    <tr>\n",
              "      <th>1962-04-01</th>\n",
              "      <td>656</td>\n",
              "      <td>April</td>\n",
              "    </tr>\n",
              "    <tr>\n",
              "      <th>1962-05-01</th>\n",
              "      <td>727</td>\n",
              "      <td>May</td>\n",
              "    </tr>\n",
              "  </tbody>\n",
              "</table>\n",
              "</div>"
            ],
            "text/plain": [
              "            Production     Month\n",
              "Date                            \n",
              "1962-01-01         589   January\n",
              "1962-02-01         561  February\n",
              "1962-03-01         640     March\n",
              "1962-04-01         656     April\n",
              "1962-05-01         727       May"
            ]
          },
          "metadata": {
            "tags": []
          },
          "execution_count": 311
        }
      ]
    },
    {
      "cell_type": "markdown",
      "metadata": {
        "id": "ClQjz0wVozkh"
      },
      "source": [
        "### 6. Create a BoxPlot that groups by the Month field"
      ]
    },
    {
      "cell_type": "code",
      "metadata": {
        "id": "-th15kOxozES"
      },
      "source": [
        ""
      ],
      "execution_count": null,
      "outputs": []
    },
    {
      "cell_type": "code",
      "metadata": {
        "colab": {
          "base_uri": "https://localhost:8080/",
          "height": 361
        },
        "id": "SV3ZVYTnoy5l",
        "outputId": "b03a54e1-565f-46eb-9219-988e29ed502a"
      },
      "source": [
        "# DON'T WRITE HERE\r\n",
        "df.boxplot(by='Month',figsize=(12,5));"
      ],
      "execution_count": 312,
      "outputs": [
        {
          "output_type": "display_data",
          "data": {
            "image/png": "[encoded data removed]",
            "text/plain": [
              "<Figure size 864x360 with 1 Axes>"
            ]
          },
          "metadata": {
            "tags": [],
            "needs_background": "light"
          }
        }
      ]
    },
    {
      "cell_type": "markdown",
      "metadata": {
        "id": "fzC-wyjkmgmW"
      },
      "source": [
        "\r\n",
        "\r\n",
        "\r\n",
        "---\r\n",
        "\r\n",
        "\r\n",
        "\r\n"
      ]
    },
    {
      "cell_type": "markdown",
      "metadata": {
        "id": "ZwYo7cZCnY9Q"
      },
      "source": [
        ""
      ]
    },
    {
      "cell_type": "markdown",
      "metadata": {
        "id": "s2u8JdOhnN52"
      },
      "source": [
        "##  Time Series with Pandas Project Exercise #2\n",
        "\n",
        "For this exercise, answer the questions below given the dataset: https://fred.stlouisfed.org/series/UMTMVS\n",
        "\n",
        "This dataset is the Value of Manufacturers' Shipments for All Manufacturing Industries."
      ]
    },
    {
      "cell_type": "markdown",
      "metadata": {
        "id": "Q2I570E1nvN4"
      },
      "source": [
        "**Import any necessary libraries.**"
      ]
    },
    {
      "cell_type": "code",
      "metadata": {
        "id": "Kl7rmYtenula"
      },
      "source": [
        "# CODE HERE\r\n",
        "\r\n",
        "import pandas as pd\r\n",
        "%matplotlib inline\r\n",
        "\r\n",
        "# https://drive.google.com/file/d/1cApgCqDF-eNc4KFc7VWjcM_o3NueFuw0/view?usp=sharing\r\n",
        "PATH_googleDrive_id = '1cApgCqDF-eNc4KFc7VWjcM_o3NueFuw0'\r\n",
        "PATH_googleDrive = 'UMTMVS.csv'\r\n",
        "Initial_googleDrive( PATH_googleDrive, PATH_googleDrive_id )\r\n",
        "PATH = PATH_googleDrive\r\n",
        "df = pd.read_csv(PATH, encoding='utf8')\r\n",
        "# title = \"Monthly milk production: pounds per cow. Jan '62 - Dec '75\"\r\n",
        "\r\n",
        "print(len(df))\r\n",
        "print(df.head(13))"
      ],
      "execution_count": null,
      "outputs": []
    },
    {
      "cell_type": "markdown",
      "metadata": {
        "id": "RX5LVw8yn1ZZ"
      },
      "source": [
        "**Read in the data UMTMVS.csv file from the Data folder**"
      ]
    },
    {
      "cell_type": "code",
      "metadata": {
        "id": "gwu-uPE4nuqF"
      },
      "source": [
        ""
      ],
      "execution_count": null,
      "outputs": []
    },
    {
      "cell_type": "markdown",
      "metadata": {
        "id": "xoLWsdxVn4Af"
      },
      "source": [
        "**Check the head of the data**"
      ]
    },
    {
      "cell_type": "code",
      "metadata": {
        "id": "eTLMF65vnuu_"
      },
      "source": [
        ""
      ],
      "execution_count": null,
      "outputs": []
    },
    {
      "cell_type": "markdown",
      "metadata": {
        "id": "VTYrU2Nkn51h"
      },
      "source": [
        "**Set the DATE column as the index.**"
      ]
    },
    {
      "cell_type": "code",
      "metadata": {
        "id": "2VZJbi6SnuzH"
      },
      "source": [
        ""
      ],
      "execution_count": null,
      "outputs": []
    },
    {
      "cell_type": "markdown",
      "metadata": {
        "id": "XShIXJNFn8-1"
      },
      "source": [
        "**Check the data type of the index.**"
      ]
    },
    {
      "cell_type": "code",
      "metadata": {
        "id": "TpMM9ijrn8hE"
      },
      "source": [
        ""
      ],
      "execution_count": null,
      "outputs": []
    },
    {
      "cell_type": "markdown",
      "metadata": {
        "id": "WLldKt_Yn_pA"
      },
      "source": [
        "**Convert the index to be a datetime index. Note, there are many, many correct ways to do this!**"
      ]
    },
    {
      "cell_type": "code",
      "metadata": {
        "id": "VA54xOlzn8lI"
      },
      "source": [
        ""
      ],
      "execution_count": null,
      "outputs": []
    },
    {
      "cell_type": "markdown",
      "metadata": {
        "id": "38AYyRwroDhD"
      },
      "source": [
        "**Plot out the data, choose a reasonable figure size**"
      ]
    },
    {
      "cell_type": "code",
      "metadata": {
        "id": "1HVCBUrLoEv-"
      },
      "source": [
        ""
      ],
      "execution_count": null,
      "outputs": []
    },
    {
      "cell_type": "markdown",
      "metadata": {
        "id": "7Lvhwr5Cqdyx"
      },
      "source": [
        "**What was the percent increase in value from Jan 2009 to Jan 2019?**"
      ]
    },
    {
      "cell_type": "code",
      "metadata": {
        "id": "uZ4l4DVhqfNZ"
      },
      "source": [
        ""
      ],
      "execution_count": null,
      "outputs": []
    },
    {
      "cell_type": "markdown",
      "metadata": {
        "id": "A4uufepjqgic"
      },
      "source": [
        "**What was the percent decrease from Jan 2008 to Jan 2009?**"
      ]
    },
    {
      "cell_type": "code",
      "metadata": {
        "id": "IdQx7EqYqj0S"
      },
      "source": [
        ""
      ],
      "execution_count": null,
      "outputs": []
    },
    {
      "cell_type": "markdown",
      "metadata": {
        "id": "cLle7Ct8qj-q"
      },
      "source": [
        "**What is the month with the least value after 2005?** [HINT](https://pandas.pydata.org/pandas-docs/stable/reference/api/pandas.DataFrame.idxmin.html)"
      ]
    },
    {
      "cell_type": "code",
      "metadata": {
        "id": "FrpkowxMqn1p"
      },
      "source": [
        ""
      ],
      "execution_count": null,
      "outputs": []
    },
    {
      "cell_type": "markdown",
      "metadata": {
        "id": "9UJIvs-SqoDg"
      },
      "source": [
        "**What 6 months have the highest value?**"
      ]
    },
    {
      "cell_type": "code",
      "metadata": {
        "id": "ikN4CiEJqpor"
      },
      "source": [
        ""
      ],
      "execution_count": null,
      "outputs": []
    },
    {
      "cell_type": "markdown",
      "metadata": {
        "id": "zBIOewN4qpzt"
      },
      "source": [
        "**How many millions of dollars in value was lost in 2008? (Another way of posing this question is what was the value difference between Jan 2008 and Jan 2009)**"
      ]
    },
    {
      "cell_type": "code",
      "metadata": {
        "id": "PdBQEtNgqtI7"
      },
      "source": [
        ""
      ],
      "execution_count": null,
      "outputs": []
    },
    {
      "cell_type": "markdown",
      "metadata": {
        "id": "L1f0GUj6qwgl"
      },
      "source": [
        "**Create a bar plot showing the average value in millions of dollars per year**"
      ]
    },
    {
      "cell_type": "code",
      "metadata": {
        "id": "W3L0KY5Mqwp3"
      },
      "source": [
        ""
      ],
      "execution_count": null,
      "outputs": []
    },
    {
      "cell_type": "markdown",
      "metadata": {
        "id": "Ezy8zQOGq0VC"
      },
      "source": [
        "**What year had the biggest increase in mean value from the previous year's mean value? (Lots of ways to get this answer!)**\r\n",
        "\r\n",
        "[HINT for a useful method](https://pandas.pydata.org/pandas-docs/version/0.21/generated/pandas.DataFrame.idxmax.html)"
      ]
    },
    {
      "cell_type": "code",
      "metadata": {
        "id": "7a3xJbm3q1X8"
      },
      "source": [
        ""
      ],
      "execution_count": null,
      "outputs": []
    },
    {
      "cell_type": "markdown",
      "metadata": {
        "id": "HFHDj9oYq4T5"
      },
      "source": [
        "**Plot out the yearly rolling mean on top of the original data. Recall that this is monthly data and there are 12 months in a year!**"
      ]
    },
    {
      "cell_type": "code",
      "metadata": {
        "id": "A3TmOfHDq5Tl"
      },
      "source": [
        ""
      ],
      "execution_count": null,
      "outputs": []
    },
    {
      "cell_type": "markdown",
      "metadata": {
        "id": "WQ-Oz_NUq5iz"
      },
      "source": [
        "**BONUS QUESTION (HARD).**\r\n",
        "\r\n",
        "**Some month in 2008 the value peaked for that year. How many months did it take to surpass that 2008 peak? (Since it crashed immediately after this peak) There are many ways to get this answer. NOTE: I get 70 months as my answer, you may get 69 or 68, depending on whether or not you count the start and end months. Refer to the video solutions for full explanation on this.**"
      ]
    },
    {
      "cell_type": "code",
      "metadata": {
        "id": "ilpigPfKq5wU"
      },
      "source": [
        "#CODE HERE"
      ],
      "execution_count": 313,
      "outputs": []
    },
    {
      "cell_type": "code",
      "metadata": {
        "id": "r0dP7ON_q6Kn"
      },
      "source": [
        ""
      ],
      "execution_count": null,
      "outputs": []
    },
    {
      "cell_type": "markdown",
      "metadata": {
        "id": "93E0hxxnrAUh"
      },
      "source": [
        "\r\n",
        "\r\n",
        "---\r\n",
        "\r\n",
        "---\r\n",
        "\r\n",
        "\r\n",
        "\r\n"
      ]
    },
    {
      "cell_type": "markdown",
      "metadata": {
        "id": "s9z7Qcgtmjlh"
      },
      "source": [
        "Note"
      ]
    },
    {
      "cell_type": "code",
      "metadata": {
        "colab": {
          "base_uri": "https://localhost:8080/"
        },
        "id": "5uHJcDQnkrKZ",
        "outputId": "7b576c19-175a-4c94-f0ff-d6eb6f156be0"
      },
      "source": [
        "df.index.strftime('%b')"
      ],
      "execution_count": 301,
      "outputs": [
        {
          "output_type": "execute_result",
          "data": {
            "text/plain": [
              "Index(['Jan', 'Feb', 'Mar', 'Apr', 'May', 'Jun', 'Jul', 'Aug', 'Sep', 'Oct',\n",
              "       ...\n",
              "       'Mar', 'Apr', 'May', 'Jun', 'Jul', 'Aug', 'Sep', 'Oct', 'Nov', 'Dec'],\n",
              "      dtype='object', name='Date', length=168)"
            ]
          },
          "metadata": {
            "tags": []
          },
          "execution_count": 301
        }
      ]
    },
    {
      "cell_type": "code",
      "metadata": {
        "colab": {
          "base_uri": "https://localhost:8080/"
        },
        "id": "vBwyoguImX6L",
        "outputId": "28a9393f-417c-4697-e8c2-c723e83e453d"
      },
      "source": [
        "df.index.strftime('%Y-%m')"
      ],
      "execution_count": 302,
      "outputs": [
        {
          "output_type": "execute_result",
          "data": {
            "text/plain": [
              "Index(['1962-01', '1962-02', '1962-03', '1962-04', '1962-05', '1962-06',\n",
              "       '1962-07', '1962-08', '1962-09', '1962-10',\n",
              "       ...\n",
              "       '1975-03', '1975-04', '1975-05', '1975-06', '1975-07', '1975-08',\n",
              "       '1975-09', '1975-10', '1975-11', '1975-12'],\n",
              "      dtype='object', name='Date', length=168)"
            ]
          },
          "metadata": {
            "tags": []
          },
          "execution_count": 302
        }
      ]
    },
    {
      "cell_type": "code",
      "metadata": {
        "id": "vUd6Cd0lmbR8"
      },
      "source": [
        ""
      ],
      "execution_count": null,
      "outputs": []
    }
  ]
}