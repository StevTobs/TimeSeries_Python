{
  "nbformat": 4,
  "nbformat_minor": 0,
  "metadata": {
    "kernelspec": {
      "display_name": "Python 3",
      "language": "python",
      "name": "python3"
    },
    "language_info": {
      "codemirror_mode": {
        "name": "ipython",
        "version": 3
      },
      "file_extension": ".py",
      "mimetype": "text/x-python",
      "name": "python",
      "nbconvert_exporter": "python",
      "pygments_lexer": "ipython3",
      "version": "3.7.2"
    },
    "colab": {
      "name": "Time_Series_with_Pandas.ipynb",
      "provenance": [],
      "toc_visible": true,
      "include_colab_link": true
    }
  },
  "cells": [
    {
      "cell_type": "markdown",
      "metadata": {
        "id": "view-in-github",
        "colab_type": "text"
      },
      "source": [
        "<a href=\"https://colab.research.google.com/github/StevTobs/TimeSeries_Python/blob/master/Time_Series_with_Pandas.ipynb\" target=\"_parent\"><img src=\"https://colab.research.google.com/assets/colab-badge.svg\" alt=\"Open In Colab\"/></a>"
      ]
    },
    {
      "cell_type": "code",
      "metadata": {
        "id": "n5FtOtt3FzxU"
      },
      "source": [
        ""
      ],
      "execution_count": null,
      "outputs": []
    },
    {
      "cell_type": "code",
      "metadata": {
        "id": "tZ0KNVErewyS"
      },
      "source": [
        "#--------Colab-----------\n",
        "!pip install -U -q PyDrive\n",
        "  \n",
        "from pydrive.auth import GoogleAuth \n",
        "from pydrive.drive import GoogleDrive \n",
        "from google.colab import auth \n",
        "from oauth2client.client import GoogleCredentials \n",
        "from google.colab import files\n",
        "#Authenticate and create the PyDrive client. \n",
        "auth.authenticate_user() \n",
        "gauth = GoogleAuth() \n",
        "gauth.credentials = GoogleCredentials.get_application_default() \n",
        "drive = GoogleDrive(gauth) \n",
        "\n",
        "#--------Colab-----------\n",
        "# To import from google drive of 'starbick.csv' \n",
        "# https://drive.google.com/file/d/11Em1TurJJcYlLgHoEB4MYo1H8ejQHP3o/view?usp=sharing\n",
        "\n",
        "# your_module = drive.CreateFile({'id':'11Em1TurJJcYlLgHoEB4MYo1H8ejQHP3o'}) \n",
        "# your_module.GetContentFile('starbucks.csv')\n",
        "\n",
        "\n",
        "\n",
        "#------------------------ \n"
      ],
      "execution_count": null,
      "outputs": []
    },
    {
      "cell_type": "markdown",
      "metadata": {
        "id": "-GAWNi6hZaiK"
      },
      "source": [
        "## Time series with Pandas\n",
        "### Table of Contents\n",
        "   * [DataTime Index Basic](#DataTimeIndexBasic)\n",
        "   * [Time Resapling](#TimeResapling)\n",
        "    - Time Shifting\n",
        "    - Rolling and Expanding\n",
        "    - Time Series Visualization\n",
        "    - Time Series Project Exercise\n",
        "    \n",
        "    \n"
      ]
    },
    {
      "cell_type": "markdown",
      "metadata": {
        "id": "mkUZOAPUZaiX"
      },
      "source": [
        "## DataTime Index Basic <a class=\"anchor\" id=\"DataTimeIndexBasic\"></a>"
      ]
    },
    {
      "cell_type": "code",
      "metadata": {
        "id": "lgKuHwaFZaiY"
      },
      "source": [
        "# None Pandas"
      ],
      "execution_count": null,
      "outputs": []
    },
    {
      "cell_type": "code",
      "metadata": {
        "id": "s4dhItWLZaiY"
      },
      "source": [
        "from datetime import datetime"
      ],
      "execution_count": null,
      "outputs": []
    },
    {
      "cell_type": "code",
      "metadata": {
        "id": "s4GRnBEuZaiZ"
      },
      "source": [
        "my_year = 2020\n",
        "my_month = 1\n",
        "my_day = 2\n",
        "my_hour = 13\n",
        "my_min = 30\n",
        "my_sec = 15"
      ],
      "execution_count": null,
      "outputs": []
    },
    {
      "cell_type": "markdown",
      "metadata": {
        "id": "_j9-8416a-lS"
      },
      "source": [
        "Create **datetime object**"
      ]
    },
    {
      "cell_type": "code",
      "metadata": {
        "id": "MxOtdH8_Zaia"
      },
      "source": [
        "#shift tab\n",
        "my_date = datetime(my_year, my_month, my_day)"
      ],
      "execution_count": null,
      "outputs": []
    },
    {
      "cell_type": "code",
      "metadata": {
        "colab": {
          "base_uri": "https://localhost:8080/"
        },
        "id": "vRlLSVkUZaib",
        "outputId": "7bb2174b-9398-4461-dea1-a990ea6c3e46"
      },
      "source": [
        "my_date"
      ],
      "execution_count": null,
      "outputs": [
        {
          "output_type": "execute_result",
          "data": {
            "text/plain": [
              "datetime.datetime(2020, 1, 2, 0, 0)"
            ]
          },
          "metadata": {
            "tags": []
          },
          "execution_count": 65
        }
      ]
    },
    {
      "cell_type": "code",
      "metadata": {
        "id": "jhxqt1CjZaid"
      },
      "source": [
        "my_date_time = datetime(my_year, my_month, my_day, my_hour, my_min, my_sec)"
      ],
      "execution_count": null,
      "outputs": []
    },
    {
      "cell_type": "code",
      "metadata": {
        "colab": {
          "base_uri": "https://localhost:8080/"
        },
        "id": "yDN0uF-HZaie",
        "outputId": "ad4c087a-c6c6-4e9a-b3f3-16a6ab5e7aa1"
      },
      "source": [
        "#tab\n",
        "my_date_time"
      ],
      "execution_count": null,
      "outputs": [
        {
          "output_type": "execute_result",
          "data": {
            "text/plain": [
              "datetime.datetime(2020, 1, 2, 13, 30, 15)"
            ]
          },
          "metadata": {
            "tags": []
          },
          "execution_count": 67
        }
      ]
    },
    {
      "cell_type": "code",
      "metadata": {
        "colab": {
          "base_uri": "https://localhost:8080/"
        },
        "id": "g4x3XbTvZaie",
        "outputId": "8bf11604-560a-4540-9569-499b714e75ca"
      },
      "source": [
        "my_date_time.day"
      ],
      "execution_count": null,
      "outputs": [
        {
          "output_type": "execute_result",
          "data": {
            "text/plain": [
              "2"
            ]
          },
          "metadata": {
            "tags": []
          },
          "execution_count": 68
        }
      ]
    },
    {
      "cell_type": "code",
      "metadata": {
        "colab": {
          "base_uri": "https://localhost:8080/"
        },
        "id": "6XZ17iEvZaii",
        "outputId": "34d6e7f1-445d-4969-c691-d0e8583d4f66"
      },
      "source": [
        "my_date_time.hour"
      ],
      "execution_count": null,
      "outputs": [
        {
          "output_type": "execute_result",
          "data": {
            "text/plain": [
              "13"
            ]
          },
          "metadata": {
            "tags": []
          },
          "execution_count": 69
        }
      ]
    },
    {
      "cell_type": "code",
      "metadata": {
        "colab": {
          "base_uri": "https://localhost:8080/"
        },
        "id": "NaBmYYruZaij",
        "outputId": "3d80e289-eafe-479f-8cf3-a5cf8050acb5"
      },
      "source": [
        "type(my_date_time)"
      ],
      "execution_count": null,
      "outputs": [
        {
          "output_type": "execute_result",
          "data": {
            "text/plain": [
              "datetime.datetime"
            ]
          },
          "metadata": {
            "tags": []
          },
          "execution_count": 70
        }
      ]
    },
    {
      "cell_type": "code",
      "metadata": {
        "id": "1fZlDasDZaik"
      },
      "source": [
        "import numpy as np"
      ],
      "execution_count": null,
      "outputs": []
    },
    {
      "cell_type": "code",
      "metadata": {
        "colab": {
          "base_uri": "https://localhost:8080/"
        },
        "id": "OUZ1ZmRlZaik",
        "outputId": "1e6a551e-e8da-4013-a4a7-788387d28edc"
      },
      "source": [
        "# Just string\n",
        "np.array(['200-03-15','2020-03-16','2020-03-17'])"
      ],
      "execution_count": null,
      "outputs": [
        {
          "output_type": "execute_result",
          "data": {
            "text/plain": [
              "array(['200-03-15', '2020-03-16', '2020-03-17'], dtype='<U10')"
            ]
          },
          "metadata": {
            "tags": []
          },
          "execution_count": 72
        }
      ]
    },
    {
      "cell_type": "code",
      "metadata": {
        "colab": {
          "base_uri": "https://localhost:8080/"
        },
        "id": "Mla_9teBZail",
        "outputId": "6f22a6f2-1500-4eff-afe2-219a7c390da6"
      },
      "source": [
        "# Datetime object specification\n",
        "np.array(['2020-03-15','2020-03-16','2020-03-17'],dtype='datetime64') #means 64bit\n",
        "#D is day"
      ],
      "execution_count": null,
      "outputs": [
        {
          "output_type": "execute_result",
          "data": {
            "text/plain": [
              "array(['2020-03-15', '2020-03-16', '2020-03-17'], dtype='datetime64[D]')"
            ]
          },
          "metadata": {
            "tags": []
          },
          "execution_count": 73
        }
      ]
    },
    {
      "cell_type": "code",
      "metadata": {
        "colab": {
          "base_uri": "https://localhost:8080/"
        },
        "id": "8xI_pizaZaim",
        "outputId": "4919f63f-9294-4467-e217-01bac11f7587"
      },
      "source": [
        "np.array(['200-03-15','2020-03-16','2020-03-17'],dtype='datetime64[Y]') #Y is day"
      ],
      "execution_count": null,
      "outputs": [
        {
          "output_type": "execute_result",
          "data": {
            "text/plain": [
              "array(['0200', '2020', '2020'], dtype='datetime64[Y]')"
            ]
          },
          "metadata": {
            "tags": []
          },
          "execution_count": 74
        }
      ]
    },
    {
      "cell_type": "code",
      "metadata": {
        "colab": {
          "base_uri": "https://localhost:8080/"
        },
        "id": "xQBxqjcEZaim",
        "outputId": "0f16e047-21f5-47d3-83fa-2de10b08c1ea"
      },
      "source": [
        "np.array(['200-03-15','2020-03-16','2020-03-17'],dtype='datetime64[h]') #h is hour"
      ],
      "execution_count": null,
      "outputs": [
        {
          "output_type": "execute_result",
          "data": {
            "text/plain": [
              "array(['0200-03-15T00', '2020-03-16T00', '2020-03-17T00'],\n",
              "      dtype='datetime64[h]')"
            ]
          },
          "metadata": {
            "tags": []
          },
          "execution_count": 75
        }
      ]
    },
    {
      "cell_type": "code",
      "metadata": {
        "colab": {
          "base_uri": "https://localhost:8080/"
        },
        "id": "vDCaKi4MZain",
        "outputId": "18abe233-e88d-4ed8-d874-cf5c462df9f8"
      },
      "source": [
        "np.arange(0,10,2)"
      ],
      "execution_count": null,
      "outputs": [
        {
          "output_type": "execute_result",
          "data": {
            "text/plain": [
              "array([0, 2, 4, 6, 8])"
            ]
          },
          "metadata": {
            "tags": []
          },
          "execution_count": 76
        }
      ]
    },
    {
      "cell_type": "code",
      "metadata": {
        "id": "i71ifhMHZain",
        "colab": {
          "base_uri": "https://localhost:8080/"
        },
        "outputId": "4547a691-21aa-4cfe-a75d-629b2a84938a"
      },
      "source": [
        "#apply day step \n",
        "np.arange('2018-06-01','2018-06-23',7, dtype='datetime64[D]')"
      ],
      "execution_count": null,
      "outputs": [
        {
          "output_type": "execute_result",
          "data": {
            "text/plain": [
              "array(['2018-06-01', '2018-06-08', '2018-06-15', '2018-06-22'],\n",
              "      dtype='datetime64[D]')"
            ]
          },
          "metadata": {
            "tags": []
          },
          "execution_count": 77
        }
      ]
    },
    {
      "cell_type": "code",
      "metadata": {
        "id": "qnAbrZOfZaio",
        "colab": {
          "base_uri": "https://localhost:8080/"
        },
        "outputId": "bdcf4b15-f2be-49aa-e9c6-dfa9b4c358c0"
      },
      "source": [
        "#Every data (becareful every hours)\n",
        "np.arange('1968','1976',dtype='datetime64[Y]')"
      ],
      "execution_count": null,
      "outputs": [
        {
          "output_type": "execute_result",
          "data": {
            "text/plain": [
              "array(['1968', '1969', '1970', '1971', '1972', '1973', '1974', '1975'],\n",
              "      dtype='datetime64[Y]')"
            ]
          },
          "metadata": {
            "tags": []
          },
          "execution_count": 78
        }
      ]
    },
    {
      "cell_type": "code",
      "metadata": {
        "id": "w5ZJYen2Zaio"
      },
      "source": [
        "# DateTime in Pandas"
      ],
      "execution_count": null,
      "outputs": []
    },
    {
      "cell_type": "code",
      "metadata": {
        "id": "bpiKkyhbZaip"
      },
      "source": [
        "import pandas as pd"
      ],
      "execution_count": null,
      "outputs": []
    },
    {
      "cell_type": "code",
      "metadata": {
        "id": "wM76O1iLZaip",
        "colab": {
          "base_uri": "https://localhost:8080/"
        },
        "outputId": "e2f6c8da-22fd-4838-af13-f2103fb36772"
      },
      "source": [
        "pd.date_range('2020-01-01',periods=7,freq='D') # ความละเอียดระดับ nano second."
      ],
      "execution_count": null,
      "outputs": [
        {
          "output_type": "execute_result",
          "data": {
            "text/plain": [
              "DatetimeIndex(['2020-01-01', '2020-01-02', '2020-01-03', '2020-01-04',\n",
              "               '2020-01-05', '2020-01-06', '2020-01-07'],\n",
              "              dtype='datetime64[ns]', freq='D')"
            ]
          },
          "metadata": {
            "tags": []
          },
          "execution_count": 81
        }
      ]
    },
    {
      "cell_type": "code",
      "metadata": {
        "id": "YGdUhpHTZaiq",
        "colab": {
          "base_uri": "https://localhost:8080/"
        },
        "outputId": "1ec95df1-068d-45b4-94bb-25b6cfb1a5a1"
      },
      "source": [
        "pd.date_range('Jan 01, 2018',periods=7,freq='D')"
      ],
      "execution_count": null,
      "outputs": [
        {
          "output_type": "execute_result",
          "data": {
            "text/plain": [
              "DatetimeIndex(['2018-01-01', '2018-01-02', '2018-01-03', '2018-01-04',\n",
              "               '2018-01-05', '2018-01-06', '2018-01-07'],\n",
              "              dtype='datetime64[ns]', freq='D')"
            ]
          },
          "metadata": {
            "tags": []
          },
          "execution_count": 82
        }
      ]
    },
    {
      "cell_type": "code",
      "metadata": {
        "id": "1IqeU5YEZaiq",
        "colab": {
          "base_uri": "https://localhost:8080/"
        },
        "outputId": "954de5d2-3436-4870-ca2b-936c968e7b32"
      },
      "source": [
        "pd.to_datetime(['1/2/2018','Jan 03, 2018'])"
      ],
      "execution_count": null,
      "outputs": [
        {
          "output_type": "execute_result",
          "data": {
            "text/plain": [
              "DatetimeIndex(['2018-01-02', '2018-01-03'], dtype='datetime64[ns]', freq=None)"
            ]
          },
          "metadata": {
            "tags": []
          },
          "execution_count": 83
        }
      ]
    },
    {
      "cell_type": "code",
      "metadata": {
        "id": "43Z2KkImZair",
        "colab": {
          "base_uri": "https://localhost:8080/"
        },
        "outputId": "c492cbf9-fb59-491d-b340-3f8a1cb42bc0"
      },
      "source": [
        "pd.to_datetime(['2/1/2018','3/1/2018'])#UK Style is not working"
      ],
      "execution_count": null,
      "outputs": [
        {
          "output_type": "execute_result",
          "data": {
            "text/plain": [
              "DatetimeIndex(['2018-02-01', '2018-03-01'], dtype='datetime64[ns]', freq=None)"
            ]
          },
          "metadata": {
            "tags": []
          },
          "execution_count": 84
        }
      ]
    },
    {
      "cell_type": "code",
      "metadata": {
        "id": "5_zr33hkZair",
        "colab": {
          "base_uri": "https://localhost:8080/"
        },
        "outputId": "88626e42-888b-4598-ceef-81a0465408f0"
      },
      "source": [
        "pd.to_datetime(['2/1/2018','3/1/2018'], format='%d/%m/%Y') #Europion"
      ],
      "execution_count": null,
      "outputs": [
        {
          "output_type": "execute_result",
          "data": {
            "text/plain": [
              "DatetimeIndex(['2018-01-02', '2018-01-03'], dtype='datetime64[ns]', freq=None)"
            ]
          },
          "metadata": {
            "tags": []
          },
          "execution_count": 85
        }
      ]
    },
    {
      "cell_type": "code",
      "metadata": {
        "id": "ZXWq34XoZais",
        "colab": {
          "base_uri": "https://localhost:8080/"
        },
        "outputId": "7546ec02-7646-43fd-d7c3-ca215d470fe1"
      },
      "source": [
        "pd.to_datetime(['2--1--2018','3--1--2018'], format='%d--%m--%Y')"
      ],
      "execution_count": null,
      "outputs": [
        {
          "output_type": "execute_result",
          "data": {
            "text/plain": [
              "DatetimeIndex(['2018-01-02', '2018-01-03'], dtype='datetime64[ns]', freq=None)"
            ]
          },
          "metadata": {
            "tags": []
          },
          "execution_count": 86
        }
      ]
    },
    {
      "cell_type": "code",
      "metadata": {
        "id": "GkcYrcRxZais",
        "colab": {
          "base_uri": "https://localhost:8080/"
        },
        "outputId": "a98b8ca6-ee68-48c5-b6b5-7b66d23c8b1d"
      },
      "source": [
        "data = np.random.randn(3,2)\n",
        "cols = ['A','B']\n",
        "print(data)"
      ],
      "execution_count": null,
      "outputs": [
        {
          "output_type": "stream",
          "text": [
            "[[ 0.10495133  1.59207935]\n",
            " [-0.49124923  0.55600237]\n",
            " [ 0.58519203  0.18345926]]\n"
          ],
          "name": "stdout"
        }
      ]
    },
    {
      "cell_type": "code",
      "metadata": {
        "id": "nBfpxe8eZais"
      },
      "source": [
        "idx = pd.date_range('2020-01-01', periods=3, freq='D')\n",
        "\n",
        "df = pd.DataFrame(data, index=idx, columns=cols)"
      ],
      "execution_count": null,
      "outputs": []
    },
    {
      "cell_type": "code",
      "metadata": {
        "id": "qf7V2ZqNZait",
        "colab": {
          "base_uri": "https://localhost:8080/",
          "height": 136
        },
        "outputId": "e3770bb9-db35-462f-d0fc-d27cb6d90e23"
      },
      "source": [
        "df"
      ],
      "execution_count": null,
      "outputs": [
        {
          "output_type": "execute_result",
          "data": {
            "text/html": [
              "<div>\n",
              "<style scoped>\n",
              "    .dataframe tbody tr th:only-of-type {\n",
              "        vertical-align: middle;\n",
              "    }\n",
              "\n",
              "    .dataframe tbody tr th {\n",
              "        vertical-align: top;\n",
              "    }\n",
              "\n",
              "    .dataframe thead th {\n",
              "        text-align: right;\n",
              "    }\n",
              "</style>\n",
              "<table border=\"1\" class=\"dataframe\">\n",
              "  <thead>\n",
              "    <tr style=\"text-align: right;\">\n",
              "      <th></th>\n",
              "      <th>A</th>\n",
              "      <th>B</th>\n",
              "    </tr>\n",
              "  </thead>\n",
              "  <tbody>\n",
              "    <tr>\n",
              "      <th>2020-01-01</th>\n",
              "      <td>0.104951</td>\n",
              "      <td>1.592079</td>\n",
              "    </tr>\n",
              "    <tr>\n",
              "      <th>2020-01-02</th>\n",
              "      <td>-0.491249</td>\n",
              "      <td>0.556002</td>\n",
              "    </tr>\n",
              "    <tr>\n",
              "      <th>2020-01-03</th>\n",
              "      <td>0.585192</td>\n",
              "      <td>0.183459</td>\n",
              "    </tr>\n",
              "  </tbody>\n",
              "</table>\n",
              "</div>"
            ],
            "text/plain": [
              "                   A         B\n",
              "2020-01-01  0.104951  1.592079\n",
              "2020-01-02 -0.491249  0.556002\n",
              "2020-01-03  0.585192  0.183459"
            ]
          },
          "metadata": {
            "tags": []
          },
          "execution_count": 89
        }
      ]
    },
    {
      "cell_type": "code",
      "metadata": {
        "id": "RlY0uWg2Zaiu",
        "colab": {
          "base_uri": "https://localhost:8080/"
        },
        "outputId": "1917c846-f2f4-4d7b-8190-fc5c2e9367df"
      },
      "source": [
        "df.index"
      ],
      "execution_count": null,
      "outputs": [
        {
          "output_type": "execute_result",
          "data": {
            "text/plain": [
              "DatetimeIndex(['2020-01-01', '2020-01-02', '2020-01-03'], dtype='datetime64[ns]', freq='D')"
            ]
          },
          "metadata": {
            "tags": []
          },
          "execution_count": 90
        }
      ]
    },
    {
      "cell_type": "code",
      "metadata": {
        "id": "9DpyilVCZaiz",
        "colab": {
          "base_uri": "https://localhost:8080/"
        },
        "outputId": "4f9d7169-042b-48c4-b0e1-9e587f11f5ce"
      },
      "source": [
        "df.index.max()"
      ],
      "execution_count": null,
      "outputs": [
        {
          "output_type": "execute_result",
          "data": {
            "text/plain": [
              "Timestamp('2020-01-03 00:00:00', freq='D')"
            ]
          },
          "metadata": {
            "tags": []
          },
          "execution_count": 91
        }
      ]
    },
    {
      "cell_type": "code",
      "metadata": {
        "id": "E92WjtFDZaiz",
        "colab": {
          "base_uri": "https://localhost:8080/"
        },
        "outputId": "15a7c68c-cc1a-4eed-b63b-00718fa57f24"
      },
      "source": [
        "df.index.argmax()"
      ],
      "execution_count": null,
      "outputs": [
        {
          "output_type": "execute_result",
          "data": {
            "text/plain": [
              "2"
            ]
          },
          "metadata": {
            "tags": []
          },
          "execution_count": 92
        }
      ]
    },
    {
      "cell_type": "code",
      "metadata": {
        "id": "L86xa2CTZai0",
        "colab": {
          "base_uri": "https://localhost:8080/"
        },
        "outputId": "7140a4fb-d47a-43a5-dce1-1921ebdfa1ce"
      },
      "source": [
        "df.index.min()"
      ],
      "execution_count": null,
      "outputs": [
        {
          "output_type": "execute_result",
          "data": {
            "text/plain": [
              "Timestamp('2020-01-01 00:00:00', freq='D')"
            ]
          },
          "metadata": {
            "tags": []
          },
          "execution_count": 93
        }
      ]
    },
    {
      "cell_type": "code",
      "metadata": {
        "id": "m93oX1rQZai0",
        "colab": {
          "base_uri": "https://localhost:8080/"
        },
        "outputId": "0ddd8b76-6ad2-47d5-f89c-766335c86711"
      },
      "source": [
        "df.index.argmin()"
      ],
      "execution_count": null,
      "outputs": [
        {
          "output_type": "execute_result",
          "data": {
            "text/plain": [
              "0"
            ]
          },
          "metadata": {
            "tags": []
          },
          "execution_count": 94
        }
      ]
    },
    {
      "cell_type": "markdown",
      "metadata": {
        "id": "eRalET8UZai1"
      },
      "source": [
        "\n",
        "___"
      ]
    },
    {
      "cell_type": "markdown",
      "metadata": {
        "id": "_HtldjzZZai1"
      },
      "source": [
        "## Time Resapling <a class=\"anchor\" id=\"TimeResapling\"></a>"
      ]
    },
    {
      "cell_type": "code",
      "metadata": {
        "id": "TP0tVpsxZai1"
      },
      "source": [
        "#@title\n",
        "import pandas as pd"
      ],
      "execution_count": null,
      "outputs": []
    },
    {
      "cell_type": "code",
      "metadata": {
        "colab": {
          "base_uri": "https://localhost:8080/",
          "height": 35
        },
        "id": "ya2Hg1d-Zai1",
        "outputId": "0d16123d-0833-4dac-fc07-4624a6e69381"
      },
      "source": [
        "pwd"
      ],
      "execution_count": null,
      "outputs": [
        {
          "output_type": "execute_result",
          "data": {
            "application/vnd.google.colaboratory.intrinsic+json": {
              "type": "string"
            },
            "text/plain": [
              "'/content'"
            ]
          },
          "metadata": {
            "tags": []
          },
          "execution_count": 96
        }
      ]
    },
    {
      "cell_type": "code",
      "metadata": {
        "id": "S1eL_H6rIsJk"
      },
      "source": [
        "#--------Colab-----------\r\n",
        "# To import from google drive of 'starbick.csv' \r\n",
        "# https://drive.google.com/file/d/11Em1TurJJcYlLgHoEB4MYo1H8ejQHP3o/view?usp=sharing\r\n",
        "\r\n",
        "your_module = drive.CreateFile({'id':'11Em1TurJJcYlLgHoEB4MYo1H8ejQHP3o'}) \r\n",
        "your_module.GetContentFile('starbucks.csv')\r\n",
        "PATH_googleDrive = 'starbucks.csv'\r\n",
        "\r\n",
        "#------------------------ "
      ],
      "execution_count": null,
      "outputs": []
    },
    {
      "cell_type": "code",
      "metadata": {
        "id": "P-40fZyiZai2"
      },
      "source": [
        "PATH = PATH_googleDrive\r\n",
        "\r\n",
        "df = pd.read_csv(PATH, index_col = 'Date')"
      ],
      "execution_count": null,
      "outputs": []
    },
    {
      "cell_type": "code",
      "metadata": {
        "id": "d8d6DKPMZai2",
        "colab": {
          "base_uri": "https://localhost:8080/",
          "height": 225
        },
        "outputId": "f6b2ea88-6917-449a-e2b7-93425dc86fbe"
      },
      "source": [
        "df.head()"
      ],
      "execution_count": null,
      "outputs": [
        {
          "output_type": "execute_result",
          "data": {
            "text/html": [
              "<div>\n",
              "<style scoped>\n",
              "    .dataframe tbody tr th:only-of-type {\n",
              "        vertical-align: middle;\n",
              "    }\n",
              "\n",
              "    .dataframe tbody tr th {\n",
              "        vertical-align: top;\n",
              "    }\n",
              "\n",
              "    .dataframe thead th {\n",
              "        text-align: right;\n",
              "    }\n",
              "</style>\n",
              "<table border=\"1\" class=\"dataframe\">\n",
              "  <thead>\n",
              "    <tr style=\"text-align: right;\">\n",
              "      <th></th>\n",
              "      <th>Close</th>\n",
              "      <th>Volume</th>\n",
              "    </tr>\n",
              "    <tr>\n",
              "      <th>Date</th>\n",
              "      <th></th>\n",
              "      <th></th>\n",
              "    </tr>\n",
              "  </thead>\n",
              "  <tbody>\n",
              "    <tr>\n",
              "      <th>2015-01-02</th>\n",
              "      <td>38.0061</td>\n",
              "      <td>6906098</td>\n",
              "    </tr>\n",
              "    <tr>\n",
              "      <th>2015-01-05</th>\n",
              "      <td>37.2781</td>\n",
              "      <td>11623796</td>\n",
              "    </tr>\n",
              "    <tr>\n",
              "      <th>2015-01-06</th>\n",
              "      <td>36.9748</td>\n",
              "      <td>7664340</td>\n",
              "    </tr>\n",
              "    <tr>\n",
              "      <th>2015-01-07</th>\n",
              "      <td>37.8848</td>\n",
              "      <td>9732554</td>\n",
              "    </tr>\n",
              "    <tr>\n",
              "      <th>2015-01-08</th>\n",
              "      <td>38.4961</td>\n",
              "      <td>13170548</td>\n",
              "    </tr>\n",
              "  </tbody>\n",
              "</table>\n",
              "</div>"
            ],
            "text/plain": [
              "              Close    Volume\n",
              "Date                         \n",
              "2015-01-02  38.0061   6906098\n",
              "2015-01-05  37.2781  11623796\n",
              "2015-01-06  36.9748   7664340\n",
              "2015-01-07  37.8848   9732554\n",
              "2015-01-08  38.4961  13170548"
            ]
          },
          "metadata": {
            "tags": []
          },
          "execution_count": 99
        }
      ]
    },
    {
      "cell_type": "code",
      "metadata": {
        "id": "3cZWmLdDZai2",
        "colab": {
          "base_uri": "https://localhost:8080/"
        },
        "outputId": "e7d7644d-9467-44cb-d11a-7c87f976392c"
      },
      "source": [
        "df.info()#To see the amout of dta"
      ],
      "execution_count": null,
      "outputs": [
        {
          "output_type": "stream",
          "text": [
            "<class 'pandas.core.frame.DataFrame'>\n",
            "Index: 1006 entries, 2015-01-02 to 2018-12-31\n",
            "Data columns (total 2 columns):\n",
            " #   Column  Non-Null Count  Dtype  \n",
            "---  ------  --------------  -----  \n",
            " 0   Close   1006 non-null   float64\n",
            " 1   Volume  1006 non-null   int64  \n",
            "dtypes: float64(1), int64(1)\n",
            "memory usage: 23.6+ KB\n"
          ],
          "name": "stdout"
        }
      ]
    },
    {
      "cell_type": "code",
      "metadata": {
        "id": "bn1V8fe9Zai3",
        "colab": {
          "base_uri": "https://localhost:8080/"
        },
        "outputId": "e9898c28-fac3-459a-8a2c-5e45beae342f"
      },
      "source": [
        "df.index"
      ],
      "execution_count": null,
      "outputs": [
        {
          "output_type": "execute_result",
          "data": {
            "text/plain": [
              "Index(['2015-01-02', '2015-01-05', '2015-01-06', '2015-01-07', '2015-01-08',\n",
              "       '2015-01-09', '2015-01-12', '2015-01-13', '2015-01-14', '2015-01-15',\n",
              "       ...\n",
              "       '2018-12-17', '2018-12-18', '2018-12-19', '2018-12-20', '2018-12-21',\n",
              "       '2018-12-24', '2018-12-26', '2018-12-27', '2018-12-28', '2018-12-31'],\n",
              "      dtype='object', name='Date', length=1006)"
            ]
          },
          "metadata": {
            "tags": []
          },
          "execution_count": 101
        }
      ]
    },
    {
      "cell_type": "code",
      "metadata": {
        "id": "COSswgvHZai3"
      },
      "source": [
        "df = pd.read_csv(PATH, index_col = 'Date', parse_dates=True)"
      ],
      "execution_count": null,
      "outputs": []
    },
    {
      "cell_type": "code",
      "metadata": {
        "id": "_y_wIHJ_Zai3",
        "colab": {
          "base_uri": "https://localhost:8080/",
          "height": 225
        },
        "outputId": "d52f994f-8533-4bd6-ecb9-488eb23ac63f"
      },
      "source": [
        "df.head()"
      ],
      "execution_count": null,
      "outputs": [
        {
          "output_type": "execute_result",
          "data": {
            "text/html": [
              "<div>\n",
              "<style scoped>\n",
              "    .dataframe tbody tr th:only-of-type {\n",
              "        vertical-align: middle;\n",
              "    }\n",
              "\n",
              "    .dataframe tbody tr th {\n",
              "        vertical-align: top;\n",
              "    }\n",
              "\n",
              "    .dataframe thead th {\n",
              "        text-align: right;\n",
              "    }\n",
              "</style>\n",
              "<table border=\"1\" class=\"dataframe\">\n",
              "  <thead>\n",
              "    <tr style=\"text-align: right;\">\n",
              "      <th></th>\n",
              "      <th>Close</th>\n",
              "      <th>Volume</th>\n",
              "    </tr>\n",
              "    <tr>\n",
              "      <th>Date</th>\n",
              "      <th></th>\n",
              "      <th></th>\n",
              "    </tr>\n",
              "  </thead>\n",
              "  <tbody>\n",
              "    <tr>\n",
              "      <th>2015-01-02</th>\n",
              "      <td>38.0061</td>\n",
              "      <td>6906098</td>\n",
              "    </tr>\n",
              "    <tr>\n",
              "      <th>2015-01-05</th>\n",
              "      <td>37.2781</td>\n",
              "      <td>11623796</td>\n",
              "    </tr>\n",
              "    <tr>\n",
              "      <th>2015-01-06</th>\n",
              "      <td>36.9748</td>\n",
              "      <td>7664340</td>\n",
              "    </tr>\n",
              "    <tr>\n",
              "      <th>2015-01-07</th>\n",
              "      <td>37.8848</td>\n",
              "      <td>9732554</td>\n",
              "    </tr>\n",
              "    <tr>\n",
              "      <th>2015-01-08</th>\n",
              "      <td>38.4961</td>\n",
              "      <td>13170548</td>\n",
              "    </tr>\n",
              "  </tbody>\n",
              "</table>\n",
              "</div>"
            ],
            "text/plain": [
              "              Close    Volume\n",
              "Date                         \n",
              "2015-01-02  38.0061   6906098\n",
              "2015-01-05  37.2781  11623796\n",
              "2015-01-06  36.9748   7664340\n",
              "2015-01-07  37.8848   9732554\n",
              "2015-01-08  38.4961  13170548"
            ]
          },
          "metadata": {
            "tags": []
          },
          "execution_count": 103
        }
      ]
    },
    {
      "cell_type": "code",
      "metadata": {
        "id": "Mk60tJsSZai4",
        "colab": {
          "base_uri": "https://localhost:8080/"
        },
        "outputId": "53ac3483-6d01-4468-9452-8c5ff95bf8a5"
      },
      "source": [
        "df.index"
      ],
      "execution_count": null,
      "outputs": [
        {
          "output_type": "execute_result",
          "data": {
            "text/plain": [
              "DatetimeIndex(['2015-01-02', '2015-01-05', '2015-01-06', '2015-01-07',\n",
              "               '2015-01-08', '2015-01-09', '2015-01-12', '2015-01-13',\n",
              "               '2015-01-14', '2015-01-15',\n",
              "               ...\n",
              "               '2018-12-17', '2018-12-18', '2018-12-19', '2018-12-20',\n",
              "               '2018-12-21', '2018-12-24', '2018-12-26', '2018-12-27',\n",
              "               '2018-12-28', '2018-12-31'],\n",
              "              dtype='datetime64[ns]', name='Date', length=1006, freq=None)"
            ]
          },
          "metadata": {
            "tags": []
          },
          "execution_count": 104
        }
      ]
    },
    {
      "cell_type": "markdown",
      "metadata": {
        "id": "NH_fadxfZai4"
      },
      "source": [
        "__resample()__\n",
        "\n",
        "A common operation with time series data is resampling based on the time series index. Let's see how to use the resample() method. [[reference](https://pandas.pydata.org/pandas-docs/stable/generated/pandas.DataFrame.resample.html)]"
      ]
    },
    {
      "cell_type": "markdown",
      "metadata": {
        "id": "DVOQgHi3Zai4"
      },
      "source": [
        "When calling `.resample()` you first need to pass in a **rule** parameter, then you need to call some sort of aggregation function.\n",
        "\n",
        "The **rule** parameter describes the frequency with which to apply the aggregation function (daily, monthly, yearly, etc.)<br>\n",
        "It is passed in using an \"offset alias\" - refer to the table below. [[reference](http://pandas.pydata.org/pandas-docs/stable/user_guide/timeseries.html#offset-aliases)]\n",
        "\n",
        "The aggregation function is needed because, due to resampling, we need some sort of mathematical rule to join the rows (mean, sum, count, etc.)"
      ]
    },
    {
      "cell_type": "markdown",
      "metadata": {
        "id": "eQPpZ93QZai5"
      },
      "source": [
        "<table style=\"display: inline-block\">\n",
        "    <caption style=\"text-align: center\"><strong>TIME SERIES OFFSET ALIASES</strong></caption>\n",
        "<tr><th>ALIAS</th><th>DESCRIPTION</th></tr>\n",
        "<tr><td>B</td><td>business day frequency</td></tr>\n",
        "<tr><td>C</td><td>custom business day frequency (experimental)</td></tr>\n",
        "<tr><td>D</td><td>calendar day frequency</td></tr>\n",
        "<tr><td>W</td><td>weekly frequency</td></tr>\n",
        "<tr><td>M</td><td>month end frequency</td></tr>\n",
        "<tr><td>SM</td><td>semi-month end frequency (15th and end of month)</td></tr>\n",
        "<tr><td>BM</td><td>business month end frequency</td></tr>\n",
        "<tr><td>CBM</td><td>custom business month end frequency</td></tr>\n",
        "<tr><td>MS</td><td>month start frequency</td></tr>\n",
        "<tr><td>SMS</td><td>semi-month start frequency (1st and 15th)</td></tr>\n",
        "<tr><td>BMS</td><td>business month start frequency</td></tr>\n",
        "<tr><td>CBMS</td><td>custom business month start frequency</td></tr>\n",
        "<tr><td>Q</td><td>quarter end frequency</td></tr>\n",
        "<tr><td></td><td><font color=white>intentionally left blank</font></td></tr></table>\n",
        "\n",
        "<table style=\"display: inline-block; margin-left: 40px\">\n",
        "<caption style=\"text-align: center\"></caption>\n",
        "<tr><th>ALIAS</th><th>DESCRIPTION</th></tr>\n",
        "<tr><td>BQ</td><td>business quarter endfrequency</td></tr>\n",
        "<tr><td>QS</td><td>quarter start frequency</td></tr>\n",
        "<tr><td>BQS</td><td>business quarter start frequency</td></tr>\n",
        "<tr><td>A</td><td>year end frequency</td></tr>\n",
        "<tr><td>BA</td><td>business year end frequency</td></tr>\n",
        "<tr><td>AS</td><td>year start frequency</td></tr>\n",
        "<tr><td>BAS</td><td>business year start frequency</td></tr>\n",
        "<tr><td>BH</td><td>business hour frequency</td></tr>\n",
        "<tr><td>H</td><td>hourly frequency</td></tr>\n",
        "<tr><td>T, min</td><td>minutely frequency</td></tr>\n",
        "<tr><td>S</td><td>secondly frequency</td></tr>\n",
        "<tr><td>L, ms</td><td>milliseconds</td></tr>\n",
        "<tr><td>U, us</td><td>microseconds</td></tr>\n",
        "<tr><td>N</td><td>nanoseconds</td></tr></table>"
      ]
    },
    {
      "cell_type": "code",
      "metadata": {
        "id": "CQb2NoYoZai5",
        "colab": {
          "base_uri": "https://localhost:8080/",
          "height": 195
        },
        "outputId": "7763a208-b1ad-476f-f2b6-5b6d366c4fb7"
      },
      "source": [
        "# dailt ---> yearly\n",
        "df.resample(rule='A').mean()\n",
        "# .max()\n",
        "# .min()\n",
        "# .std()"
      ],
      "execution_count": null,
      "outputs": [
        {
          "output_type": "execute_result",
          "data": {
            "text/html": [
              "<div>\n",
              "<style scoped>\n",
              "    .dataframe tbody tr th:only-of-type {\n",
              "        vertical-align: middle;\n",
              "    }\n",
              "\n",
              "    .dataframe tbody tr th {\n",
              "        vertical-align: top;\n",
              "    }\n",
              "\n",
              "    .dataframe thead th {\n",
              "        text-align: right;\n",
              "    }\n",
              "</style>\n",
              "<table border=\"1\" class=\"dataframe\">\n",
              "  <thead>\n",
              "    <tr style=\"text-align: right;\">\n",
              "      <th></th>\n",
              "      <th>Close</th>\n",
              "      <th>Volume</th>\n",
              "    </tr>\n",
              "    <tr>\n",
              "      <th>Date</th>\n",
              "      <th></th>\n",
              "      <th></th>\n",
              "    </tr>\n",
              "  </thead>\n",
              "  <tbody>\n",
              "    <tr>\n",
              "      <th>2015-12-31</th>\n",
              "      <td>50.078100</td>\n",
              "      <td>8.649190e+06</td>\n",
              "    </tr>\n",
              "    <tr>\n",
              "      <th>2016-12-31</th>\n",
              "      <td>53.891732</td>\n",
              "      <td>9.300633e+06</td>\n",
              "    </tr>\n",
              "    <tr>\n",
              "      <th>2017-12-31</th>\n",
              "      <td>55.457310</td>\n",
              "      <td>9.296078e+06</td>\n",
              "    </tr>\n",
              "    <tr>\n",
              "      <th>2018-12-31</th>\n",
              "      <td>56.870005</td>\n",
              "      <td>1.122883e+07</td>\n",
              "    </tr>\n",
              "  </tbody>\n",
              "</table>\n",
              "</div>"
            ],
            "text/plain": [
              "                Close        Volume\n",
              "Date                               \n",
              "2015-12-31  50.078100  8.649190e+06\n",
              "2016-12-31  53.891732  9.300633e+06\n",
              "2017-12-31  55.457310  9.296078e+06\n",
              "2018-12-31  56.870005  1.122883e+07"
            ]
          },
          "metadata": {
            "tags": []
          },
          "execution_count": 37
        }
      ]
    },
    {
      "cell_type": "code",
      "metadata": {
        "id": "IgYXAWiMZai6"
      },
      "source": [
        "def first_day(entry):\n",
        "    \n",
        "    # IS THERE AN ENTRY??\n",
        "    if len(entry) :\n",
        "        #IF SO, RETURN FIRST ENTRY\n",
        "        return entry[0]\n",
        "        "
      ],
      "execution_count": null,
      "outputs": []
    },
    {
      "cell_type": "code",
      "metadata": {
        "id": "68Mw4QVIZai7",
        "colab": {
          "base_uri": "https://localhost:8080/",
          "height": 195
        },
        "outputId": "c48a7470-9a76-48ab-bda5-4df7f53e800d"
      },
      "source": [
        "#Apply for seing the first day\n",
        "#Use apply method for applying your custom function\n",
        "df.resample(rule='A').apply(first_day)"
      ],
      "execution_count": null,
      "outputs": [
        {
          "output_type": "execute_result",
          "data": {
            "text/html": [
              "<div>\n",
              "<style scoped>\n",
              "    .dataframe tbody tr th:only-of-type {\n",
              "        vertical-align: middle;\n",
              "    }\n",
              "\n",
              "    .dataframe tbody tr th {\n",
              "        vertical-align: top;\n",
              "    }\n",
              "\n",
              "    .dataframe thead th {\n",
              "        text-align: right;\n",
              "    }\n",
              "</style>\n",
              "<table border=\"1\" class=\"dataframe\">\n",
              "  <thead>\n",
              "    <tr style=\"text-align: right;\">\n",
              "      <th></th>\n",
              "      <th>Close</th>\n",
              "      <th>Volume</th>\n",
              "    </tr>\n",
              "    <tr>\n",
              "      <th>Date</th>\n",
              "      <th></th>\n",
              "      <th></th>\n",
              "    </tr>\n",
              "  </thead>\n",
              "  <tbody>\n",
              "    <tr>\n",
              "      <th>2015-12-31</th>\n",
              "      <td>38.0061</td>\n",
              "      <td>6906098</td>\n",
              "    </tr>\n",
              "    <tr>\n",
              "      <th>2016-12-31</th>\n",
              "      <td>55.0780</td>\n",
              "      <td>13521544</td>\n",
              "    </tr>\n",
              "    <tr>\n",
              "      <th>2017-12-31</th>\n",
              "      <td>53.1100</td>\n",
              "      <td>7809307</td>\n",
              "    </tr>\n",
              "    <tr>\n",
              "      <th>2018-12-31</th>\n",
              "      <td>56.3243</td>\n",
              "      <td>7215978</td>\n",
              "    </tr>\n",
              "  </tbody>\n",
              "</table>\n",
              "</div>"
            ],
            "text/plain": [
              "              Close    Volume\n",
              "Date                         \n",
              "2015-12-31  38.0061   6906098\n",
              "2016-12-31  55.0780  13521544\n",
              "2017-12-31  53.1100   7809307\n",
              "2018-12-31  56.3243   7215978"
            ]
          },
          "metadata": {
            "tags": []
          },
          "execution_count": 42
        }
      ]
    },
    {
      "cell_type": "code",
      "metadata": {
        "id": "VEmohnlfZai8",
        "colab": {
          "base_uri": "https://localhost:8080/",
          "height": 225
        },
        "outputId": "be07f081-dcf7-45fe-9e4e-d2c8af54f053"
      },
      "source": [
        "df.head()"
      ],
      "execution_count": null,
      "outputs": [
        {
          "output_type": "execute_result",
          "data": {
            "text/html": [
              "<div>\n",
              "<style scoped>\n",
              "    .dataframe tbody tr th:only-of-type {\n",
              "        vertical-align: middle;\n",
              "    }\n",
              "\n",
              "    .dataframe tbody tr th {\n",
              "        vertical-align: top;\n",
              "    }\n",
              "\n",
              "    .dataframe thead th {\n",
              "        text-align: right;\n",
              "    }\n",
              "</style>\n",
              "<table border=\"1\" class=\"dataframe\">\n",
              "  <thead>\n",
              "    <tr style=\"text-align: right;\">\n",
              "      <th></th>\n",
              "      <th>Close</th>\n",
              "      <th>Volume</th>\n",
              "    </tr>\n",
              "    <tr>\n",
              "      <th>Date</th>\n",
              "      <th></th>\n",
              "      <th></th>\n",
              "    </tr>\n",
              "  </thead>\n",
              "  <tbody>\n",
              "    <tr>\n",
              "      <th>2015-01-02</th>\n",
              "      <td>38.0061</td>\n",
              "      <td>6906098</td>\n",
              "    </tr>\n",
              "    <tr>\n",
              "      <th>2015-01-05</th>\n",
              "      <td>37.2781</td>\n",
              "      <td>11623796</td>\n",
              "    </tr>\n",
              "    <tr>\n",
              "      <th>2015-01-06</th>\n",
              "      <td>36.9748</td>\n",
              "      <td>7664340</td>\n",
              "    </tr>\n",
              "    <tr>\n",
              "      <th>2015-01-07</th>\n",
              "      <td>37.8848</td>\n",
              "      <td>9732554</td>\n",
              "    </tr>\n",
              "    <tr>\n",
              "      <th>2015-01-08</th>\n",
              "      <td>38.4961</td>\n",
              "      <td>13170548</td>\n",
              "    </tr>\n",
              "  </tbody>\n",
              "</table>\n",
              "</div>"
            ],
            "text/plain": [
              "              Close    Volume\n",
              "Date                         \n",
              "2015-01-02  38.0061   6906098\n",
              "2015-01-05  37.2781  11623796\n",
              "2015-01-06  36.9748   7664340\n",
              "2015-01-07  37.8848   9732554\n",
              "2015-01-08  38.4961  13170548"
            ]
          },
          "metadata": {
            "tags": []
          },
          "execution_count": 43
        }
      ]
    },
    {
      "cell_type": "code",
      "metadata": {
        "id": "YPyLFdSRZai9",
        "colab": {
          "base_uri": "https://localhost:8080/",
          "height": 391
        },
        "outputId": "e21067e7-42da-4dc6-86c4-cbc31afcd765"
      },
      "source": [
        "%matplotlib inline\r\n",
        "df['Close'].resample('A').mean().plot.bar()"
      ],
      "execution_count": null,
      "outputs": [
        {
          "output_type": "execute_result",
          "data": {
            "text/plain": [
              "<matplotlib.axes._subplots.AxesSubplot at 0x7f34def54d30>"
            ]
          },
          "metadata": {
            "tags": []
          },
          "execution_count": 48
        },
        {
          "output_type": "display_data",
          "data": {
            "image/png": "[encoded data removed]",
            "text/plain": [
              "<Figure size 432x288 with 1 Axes>"
            ]
          },
          "metadata": {
            "tags": [],
            "needs_background": "light"
          }
        }
      ]
    },
    {
      "cell_type": "code",
      "metadata": {
        "id": "JSdQqEu0Osc_"
      },
      "source": [
        "title = "
      ],
      "execution_count": null,
      "outputs": []
    }
  ]
}